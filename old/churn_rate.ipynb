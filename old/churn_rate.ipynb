{
 "cells": [
  {
   "cell_type": "code",
   "execution_count": 2,
   "metadata": {},
   "outputs": [
    {
     "data": {
      "text/html": [
       "<style>.container { width: 100% !important; }</style>"
      ],
      "text/plain": [
       "<IPython.core.display.HTML object>"
      ]
     },
     "metadata": {},
     "output_type": "display_data"
    }
   ],
   "source": [
    "from IPython.core.display import display, HTML\n",
    "display(HTML(\"<style>.container { width: 100% !important; }</style>\"))"
   ]
  },
  {
   "cell_type": "code",
   "execution_count": 3,
   "metadata": {},
   "outputs": [],
   "source": [
    "#===========================================================\n",
    "# File Name : B_DA_RETL_CHURN                            \n",
    "# Description :                                             \n",
    "# Date : 2020-11-12                                         \n",
    "# Writer : Yoon Jun Beom\n",
    "# Packages :                                                \n",
    "# Note :                           \n",
    "#==========================================================="
   ]
  },
  {
   "cell_type": "code",
   "execution_count": 4,
   "metadata": {},
   "outputs": [],
   "source": [
    "# library import \n",
    "import pandas as pd\n",
    "import numpy as np\n",
    "\n",
    "import warnings\n",
    "warnings.filterwarnings('ignore')"
   ]
  },
  {
   "cell_type": "code",
   "execution_count": 5,
   "metadata": {},
   "outputs": [],
   "source": [
    "# get parameter\n",
    "args_mm = '202011'"
   ]
  },
  {
   "cell_type": "code",
   "execution_count": 6,
   "metadata": {},
   "outputs": [],
   "source": [
    "# check the parameters\n",
    "if len(args_mm) != 6 : \n",
    "    print(\"arg's length is not 6 char <yyyymm>\")\n",
    "    raise Error\n",
    "\n",
    "churn_base = pd.read_csv(r\".\\b_da_retl_churn_anl_md_ds.csv\")"
   ]
  },
  {
   "cell_type": "code",
   "execution_count": 7,
   "metadata": {},
   "outputs": [],
   "source": [
    "churn_base.drop('레코드 수', axis = 1, inplace = True)"
   ]
  },
  {
   "cell_type": "code",
   "execution_count": 7,
   "metadata": {},
   "outputs": [],
   "source": [
    "churn_base = churn_base[['reg_no','amt_day_cnt', 'avg_amt', 'avg_cnt', 'avg_mm_amt', 'avg_mm_cnt',\n",
    "       'bf_month_diff_amt', 'bf_month_diff_cnt', 'high_lw_term',\n",
    "       'join_term', 'last_xmit_date', 'm3_sd_amt', 'm3_sd_cnt', 'm_00_app_amt',\n",
    "       'm_00_app_cnt', 'm_01_app_amt', 'm_01_app_cnt', 'm_02_app_amt',\n",
    "       'm_02_app_cnt', 'm_03_app_amt', 'm_03_app_cnt', 'm_04_app_amt',\n",
    "       'm_04_app_cnt', 'm_05_app_amt', 'm_05_app_cnt', 'max_amt_month',\n",
    "       'min_amt_month', 'min_mm_amt', 'min_mm_cnt', 'min_xmit_date',\n",
    "       'month_cnt', 'mx_mm_amt', 'mx_mm_cnt', 'mx_xmit_date', \n",
    "       'sd_amt', 'sd_mm_amt', 'sd_mm_cnt', 'sum_amt', 'sum_cnt',\n",
    "       'wk2_amt_diff', 'wk2_cnt_diff']]"
   ]
  },
  {
   "cell_type": "code",
   "execution_count": 8,
   "metadata": {},
   "outputs": [
    {
     "data": {
      "text/html": [
       "<div>\n",
       "<style scoped>\n",
       "    .dataframe tbody tr th:only-of-type {\n",
       "        vertical-align: middle;\n",
       "    }\n",
       "\n",
       "    .dataframe tbody tr th {\n",
       "        vertical-align: top;\n",
       "    }\n",
       "\n",
       "    .dataframe thead th {\n",
       "        text-align: right;\n",
       "    }\n",
       "</style>\n",
       "<table border=\"1\" class=\"dataframe\">\n",
       "  <thead>\n",
       "    <tr style=\"text-align: right;\">\n",
       "      <th></th>\n",
       "      <th>cd_lv1</th>\n",
       "      <th>cd_lv2</th>\n",
       "      <th>cd_lv2_nm</th>\n",
       "      <th>cd_lv3</th>\n",
       "      <th>map_cd</th>\n",
       "      <th>map_gubun</th>\n",
       "    </tr>\n",
       "  </thead>\n",
       "  <tbody>\n",
       "    <tr>\n",
       "      <th>0</th>\n",
       "      <td>B72</td>\n",
       "      <td>M72</td>\n",
       "      <td>의료관련서비스업</td>\n",
       "      <td>S07</td>\n",
       "      <td>S07</td>\n",
       "      <td>S</td>\n",
       "    </tr>\n",
       "    <tr>\n",
       "      <th>1</th>\n",
       "      <td>B71</td>\n",
       "      <td>M71</td>\n",
       "      <td>수의업</td>\n",
       "      <td>S04</td>\n",
       "      <td>S04</td>\n",
       "      <td>S</td>\n",
       "    </tr>\n",
       "    <tr>\n",
       "      <th>2</th>\n",
       "      <td>B70</td>\n",
       "      <td>M70</td>\n",
       "      <td>유사의료업</td>\n",
       "      <td>S03</td>\n",
       "      <td>S03</td>\n",
       "      <td>S</td>\n",
       "    </tr>\n",
       "    <tr>\n",
       "      <th>3</th>\n",
       "      <td>B69</td>\n",
       "      <td>M69</td>\n",
       "      <td>약국/한약방</td>\n",
       "      <td>S02</td>\n",
       "      <td>S02</td>\n",
       "      <td>S</td>\n",
       "    </tr>\n",
       "    <tr>\n",
       "      <th>4</th>\n",
       "      <td>B68</td>\n",
       "      <td>M68</td>\n",
       "      <td>병원</td>\n",
       "      <td>S01</td>\n",
       "      <td>S01</td>\n",
       "      <td>S</td>\n",
       "    </tr>\n",
       "  </tbody>\n",
       "</table>\n",
       "</div>"
      ],
      "text/plain": [
       "  cd_lv1 cd_lv2 cd_lv2_nm cd_lv3 map_cd map_gubun\n",
       "0    B72    M72  의료관련서비스업    S07    S07         S\n",
       "1    B71    M71       수의업    S04    S04         S\n",
       "2    B70    M70     유사의료업    S03    S03         S\n",
       "3    B69    M69    약국/한약방    S02    S02         S\n",
       "4    B68    M68        병원    S01    S01         S"
      ]
     },
     "execution_count": 8,
     "metadata": {},
     "output_type": "execute_result"
    }
   ],
   "source": [
    "map_code_info = pd.read_csv(r\".\\b_svr_map_code_info.csv\")\n",
    "map_code_info.drop(['레코드 수', 'load_dtm'], axis = 1, inplace = True)\n",
    "map_code_info.head()"
   ]
  },
  {
   "cell_type": "markdown",
   "metadata": {},
   "source": [
    "# 가맹점 코드 분류 체계 변경"
   ]
  },
  {
   "cell_type": "code",
   "execution_count": 9,
   "metadata": {},
   "outputs": [],
   "source": [
    "li = [ \n",
    "[\"부페\", \"중식\", \"퓨전/기타음식점\", \"한식-일반음식점\", \"양식\", \"일식/수산물\", \"분식/휴게음식점\", \"패스트푸드/제과점\"]\t, \"음식점\" ,\n",
    "[\"실내스포츠시설운영업\", \"실외스포츠시설운영업\", \"스포츠시설운영업\"]\t, \"스포츠시설운영업\",\n",
    "[\"예체능계학원\", \"외국어학원\", \"일반교과학원\", \"기타학원\", \"학습지/코칭교육\"]\t, \"학원\",\n",
    "[\"자동차및부품판매점\", \"자동차정비/세차/주차장\"]\t, \"자동차관련판매점\",\n",
    "[\"유흥주점-무도/가무\", \"일반유흥주점\"]\t, \"주점\",\n",
    "[\"독서실/도서관\"]\t, \"기타시설운영업\",\n",
    "[\"세탁/가사/전문서비스\", \"주택수리서비스\", \"용품수리서비스\"]\t, \"대행/용역/인력알선\",\n",
    "[\"약국/한약방\", \"유사의료업\", \"의료관련서비스업\"]\t, \"병원\",\n",
    "[\"예식/의례/관혼상제\"]\t, \"수의업\"\n",
    "]    \n",
    "a = []  \n",
    "b = []\n",
    "\n",
    "for i in li:\n",
    "    if type(i) == list :\n",
    "        a.append(i)\n",
    "    else :\n",
    "        b.append(i)"
   ]
  },
  {
   "cell_type": "code",
   "execution_count": 10,
   "metadata": {},
   "outputs": [],
   "source": [
    "for i, j in zip(a, b):\n",
    "    map_code_info['cd_lv2_nm'].replace(i, j, inplace= True)"
   ]
  },
  {
   "cell_type": "code",
   "execution_count": 11,
   "metadata": {
    "scrolled": true
   },
   "outputs": [
    {
     "data": {
      "text/plain": [
       "50"
      ]
     },
     "execution_count": 11,
     "metadata": {},
     "output_type": "execute_result"
    }
   ],
   "source": [
    "map_code_info.query(\"map_gubun=='V'\").cd_lv2_nm.nunique()"
   ]
  },
  {
   "cell_type": "code",
   "execution_count": 12,
   "metadata": {},
   "outputs": [],
   "source": [
    "recent_sales = pd.read_csv(r\"./last_month.csv\")"
   ]
  },
  {
   "cell_type": "code",
   "execution_count": 13,
   "metadata": {},
   "outputs": [
    {
     "data": {
      "text/html": [
       "<div>\n",
       "<style scoped>\n",
       "    .dataframe tbody tr th:only-of-type {\n",
       "        vertical-align: middle;\n",
       "    }\n",
       "\n",
       "    .dataframe tbody tr th {\n",
       "        vertical-align: top;\n",
       "    }\n",
       "\n",
       "    .dataframe thead th {\n",
       "        text-align: right;\n",
       "    }\n",
       "</style>\n",
       "<table border=\"1\" class=\"dataframe\">\n",
       "  <thead>\n",
       "    <tr style=\"text-align: right;\">\n",
       "      <th></th>\n",
       "      <th>reg_no</th>\n",
       "      <th>amt_day_cnt</th>\n",
       "      <th>avg_amt</th>\n",
       "      <th>avg_cnt</th>\n",
       "      <th>avg_mm_amt</th>\n",
       "      <th>avg_mm_cnt</th>\n",
       "      <th>bf_month_diff_amt</th>\n",
       "      <th>bf_month_diff_cnt</th>\n",
       "      <th>high_lw_term</th>\n",
       "      <th>join_term</th>\n",
       "      <th>...</th>\n",
       "      <th>mx_mm_amt</th>\n",
       "      <th>mx_mm_cnt</th>\n",
       "      <th>mx_xmit_date</th>\n",
       "      <th>sd_amt</th>\n",
       "      <th>sd_mm_amt</th>\n",
       "      <th>sd_mm_cnt</th>\n",
       "      <th>sum_amt</th>\n",
       "      <th>sum_cnt</th>\n",
       "      <th>wk2_amt_diff</th>\n",
       "      <th>wk2_cnt_diff</th>\n",
       "    </tr>\n",
       "  </thead>\n",
       "  <tbody>\n",
       "    <tr>\n",
       "      <th>0</th>\n",
       "      <td>7575000187</td>\n",
       "      <td>109</td>\n",
       "      <td>103491.4</td>\n",
       "      <td>11.3</td>\n",
       "      <td>2256114</td>\n",
       "      <td>247.4</td>\n",
       "      <td>0</td>\n",
       "      <td>0</td>\n",
       "      <td>4284550</td>\n",
       "      <td>168</td>\n",
       "      <td>...</td>\n",
       "      <td>4549400</td>\n",
       "      <td>475</td>\n",
       "      <td>20201130</td>\n",
       "      <td>70723.10</td>\n",
       "      <td>1772310.2</td>\n",
       "      <td>191.2</td>\n",
       "      <td>11280570</td>\n",
       "      <td>1237</td>\n",
       "      <td>481240</td>\n",
       "      <td>36</td>\n",
       "    </tr>\n",
       "    <tr>\n",
       "      <th>1</th>\n",
       "      <td>1048118780</td>\n",
       "      <td>183</td>\n",
       "      <td>5347121.9</td>\n",
       "      <td>445.2</td>\n",
       "      <td>163087219</td>\n",
       "      <td>13578.5</td>\n",
       "      <td>10857940</td>\n",
       "      <td>403</td>\n",
       "      <td>50869646</td>\n",
       "      <td>5816</td>\n",
       "      <td>...</td>\n",
       "      <td>181037721</td>\n",
       "      <td>15145</td>\n",
       "      <td>20201130</td>\n",
       "      <td>2958857.33</td>\n",
       "      <td>16299689.8</td>\n",
       "      <td>1560.6</td>\n",
       "      <td>978523315</td>\n",
       "      <td>81471</td>\n",
       "      <td>-16116500</td>\n",
       "      <td>-838</td>\n",
       "    </tr>\n",
       "    <tr>\n",
       "      <th>2</th>\n",
       "      <td>8080901217</td>\n",
       "      <td>183</td>\n",
       "      <td>16595050.5</td>\n",
       "      <td>170.6</td>\n",
       "      <td>506149042</td>\n",
       "      <td>5203.5</td>\n",
       "      <td>0</td>\n",
       "      <td>0</td>\n",
       "      <td>324934178</td>\n",
       "      <td>325</td>\n",
       "      <td>...</td>\n",
       "      <td>691286283</td>\n",
       "      <td>6878</td>\n",
       "      <td>20201130</td>\n",
       "      <td>6403905.70</td>\n",
       "      <td>125992809.7</td>\n",
       "      <td>1120.2</td>\n",
       "      <td>3036894251</td>\n",
       "      <td>31221</td>\n",
       "      <td>51358656</td>\n",
       "      <td>619</td>\n",
       "    </tr>\n",
       "    <tr>\n",
       "      <th>3</th>\n",
       "      <td>5229901046</td>\n",
       "      <td>71</td>\n",
       "      <td>1512400.4</td>\n",
       "      <td>51.2</td>\n",
       "      <td>21476086</td>\n",
       "      <td>727.6</td>\n",
       "      <td>0</td>\n",
       "      <td>0</td>\n",
       "      <td>41189031</td>\n",
       "      <td>166</td>\n",
       "      <td>...</td>\n",
       "      <td>44525831</td>\n",
       "      <td>1366</td>\n",
       "      <td>20201128</td>\n",
       "      <td>783378.27</td>\n",
       "      <td>15490153.5</td>\n",
       "      <td>482.9</td>\n",
       "      <td>107380431</td>\n",
       "      <td>3638</td>\n",
       "      <td>-767800</td>\n",
       "      <td>-79</td>\n",
       "    </tr>\n",
       "    <tr>\n",
       "      <th>4</th>\n",
       "      <td>2078514698</td>\n",
       "      <td>183</td>\n",
       "      <td>21590217.0</td>\n",
       "      <td>271.0</td>\n",
       "      <td>658501621</td>\n",
       "      <td>8266.5</td>\n",
       "      <td>0</td>\n",
       "      <td>0</td>\n",
       "      <td>149752692</td>\n",
       "      <td>1412</td>\n",
       "      <td>...</td>\n",
       "      <td>744330413</td>\n",
       "      <td>9125</td>\n",
       "      <td>20201130</td>\n",
       "      <td>9282400.52</td>\n",
       "      <td>50027808.8</td>\n",
       "      <td>634.4</td>\n",
       "      <td>3951009728</td>\n",
       "      <td>49599</td>\n",
       "      <td>-14176320</td>\n",
       "      <td>359</td>\n",
       "    </tr>\n",
       "  </tbody>\n",
       "</table>\n",
       "<p>5 rows × 41 columns</p>\n",
       "</div>"
      ],
      "text/plain": [
       "       reg_no  amt_day_cnt     avg_amt  avg_cnt  avg_mm_amt  avg_mm_cnt  \\\n",
       "0  7575000187          109    103491.4     11.3     2256114       247.4   \n",
       "1  1048118780          183   5347121.9    445.2   163087219     13578.5   \n",
       "2  8080901217          183  16595050.5    170.6   506149042      5203.5   \n",
       "3  5229901046           71   1512400.4     51.2    21476086       727.6   \n",
       "4  2078514698          183  21590217.0    271.0   658501621      8266.5   \n",
       "\n",
       "   bf_month_diff_amt  bf_month_diff_cnt  high_lw_term  join_term  ...  \\\n",
       "0                  0                  0       4284550        168  ...   \n",
       "1           10857940                403      50869646       5816  ...   \n",
       "2                  0                  0     324934178        325  ...   \n",
       "3                  0                  0      41189031        166  ...   \n",
       "4                  0                  0     149752692       1412  ...   \n",
       "\n",
       "   mx_mm_amt  mx_mm_cnt  mx_xmit_date      sd_amt    sd_mm_amt  sd_mm_cnt  \\\n",
       "0    4549400        475      20201130    70723.10    1772310.2      191.2   \n",
       "1  181037721      15145      20201130  2958857.33   16299689.8     1560.6   \n",
       "2  691286283       6878      20201130  6403905.70  125992809.7     1120.2   \n",
       "3   44525831       1366      20201128   783378.27   15490153.5      482.9   \n",
       "4  744330413       9125      20201130  9282400.52   50027808.8      634.4   \n",
       "\n",
       "      sum_amt  sum_cnt  wk2_amt_diff  wk2_cnt_diff  \n",
       "0    11280570     1237        481240            36  \n",
       "1   978523315    81471     -16116500          -838  \n",
       "2  3036894251    31221      51358656           619  \n",
       "3   107380431     3638       -767800           -79  \n",
       "4  3951009728    49599     -14176320           359  \n",
       "\n",
       "[5 rows x 41 columns]"
      ]
     },
     "execution_count": 13,
     "metadata": {},
     "output_type": "execute_result"
    }
   ],
   "source": [
    "churn_base.head()"
   ]
  },
  {
   "cell_type": "code",
   "execution_count": 14,
   "metadata": {},
   "outputs": [],
   "source": [
    "month_tot = churn_base"
   ]
  },
  {
   "cell_type": "code",
   "execution_count": 15,
   "metadata": {},
   "outputs": [],
   "source": [
    "# feature engineering \n",
    "# rto (cnt/ amt)\n",
    "for i in range(6):\n",
    "    month_tot[f'm{str(i+1)}_cnt_rto'] = month_tot[f'm_{str(i).zfill(2)}_app_cnt'] / month_tot['sum_cnt'] \n",
    "    month_tot[f'm{str(i+1)}_amt_rto'] = month_tot[f'm_{str(i).zfill(2)}_app_amt'] / month_tot['sum_amt'] "
   ]
  },
  {
   "cell_type": "code",
   "execution_count": 16,
   "metadata": {},
   "outputs": [],
   "source": [
    "# MoM\n",
    "for i in range(5):\n",
    "    month_tot[f'm{str(i).zfill(2)}_cnt_updn_rto'] = (month_tot[f'm_{str(i).zfill(2)}_app_cnt'] / month_tot[f'm_{str(i+1).zfill(2)}_app_cnt']) -1 \n",
    "    month_tot[f'm{str(i).zfill(2)}_amt_updn_rto'] = (month_tot[f'm_{str(i).zfill(2)}_app_amt'] / month_tot[f'm_{str(i+1).zfill(2)}_app_amt']) -1 "
   ]
  },
  {
   "cell_type": "code",
   "execution_count": 17,
   "metadata": {},
   "outputs": [],
   "source": [
    "for col in month_tot.columns[month_tot.columns.str.contains(r\"(_rto)\")]:\n",
    "    month_tot.fillna({col:0}, inplace = True)"
   ]
  },
  {
   "cell_type": "code",
   "execution_count": 18,
   "metadata": {},
   "outputs": [
    {
     "data": {
      "text/plain": [
       "Index(['m00_cnt_updn_rto', 'm01_cnt_updn_rto', 'm02_cnt_updn_rto',\n",
       "       'm03_cnt_updn_rto', 'm04_cnt_updn_rto'],\n",
       "      dtype='object')"
      ]
     },
     "execution_count": 18,
     "metadata": {},
     "output_type": "execute_result"
    }
   ],
   "source": [
    "month_tot.columns[month_tot.columns.str.contains(r\"(_cnt_updn_rto)\")]"
   ]
  },
  {
   "cell_type": "code",
   "execution_count": 19,
   "metadata": {},
   "outputs": [],
   "source": [
    "month_tot.replace([np.inf, -np.inf], np.nan, inplace = True)"
   ]
  },
  {
   "cell_type": "code",
   "execution_count": 20,
   "metadata": {},
   "outputs": [],
   "source": [
    "for col in month_tot.columns[month_tot.columns.str.contains(r\"(_rto)\")]:\n",
    "    month_tot.fillna({col:0}, inplace = True)"
   ]
  },
  {
   "cell_type": "code",
   "execution_count": 21,
   "metadata": {},
   "outputs": [],
   "source": [
    "month_tot['avg_cnt_updn_rto'] = month_tot[month_tot.columns[month_tot.columns.str.contains(r\"(_cnt_updn_rto)\")]].mean(1)\n",
    "month_tot['avg_amt_updn_rto'] = month_tot[month_tot.columns[month_tot.columns.str.contains(r\"(_amt_updn_rto)\")]].mean(1)"
   ]
  },
  {
   "cell_type": "code",
   "execution_count": 22,
   "metadata": {},
   "outputs": [],
   "source": [
    "debit_retl = pd.read_csv(r\".\\debit_retl.csv\", dtype='str')"
   ]
  },
  {
   "cell_type": "code",
   "execution_count": 23,
   "metadata": {},
   "outputs": [],
   "source": [
    "debit_retl = debit_retl.query(\"dbr_cflag == '1'\")[['reg_no','dbr_new_svr_code']]"
   ]
  },
  {
   "cell_type": "code",
   "execution_count": 24,
   "metadata": {},
   "outputs": [],
   "source": [
    "debit_retl = debit_retl.merge(map_code_info.query(\"map_gubun == 'V'\")[['map_cd', 'cd_lv2_nm']], 'left', left_on= 'dbr_new_svr_code', right_on = 'map_cd')"
   ]
  },
  {
   "cell_type": "code",
   "execution_count": 25,
   "metadata": {},
   "outputs": [],
   "source": [
    "month_tot['reg_no'] = month_tot.reg_no.astype(\"str\")"
   ]
  },
  {
   "cell_type": "code",
   "execution_count": 26,
   "metadata": {},
   "outputs": [],
   "source": [
    "base_tot = month_tot.merge(debit_retl, 'inner', on = 'reg_no')"
   ]
  },
  {
   "cell_type": "code",
   "execution_count": 27,
   "metadata": {},
   "outputs": [],
   "source": [
    "base_tot = base_tot[base_tot.cd_lv2_nm.notna()]"
   ]
  },
  {
   "cell_type": "code",
   "execution_count": 28,
   "metadata": {},
   "outputs": [],
   "source": [
    "base_tot['norm_wrk_day'] = \\\n",
    "pd.to_datetime(base_tot.mx_xmit_date, format = \"%Y%m%d\") - pd.to_datetime(base_tot.min_xmit_date, format = \"%Y%m%d\") + np.timedelta64(1, 'D')\n",
    "\n",
    "base_tot['norm_wrk_day'] = base_tot.norm_wrk_day / np.timedelta64(1, 'D')"
   ]
  },
  {
   "cell_type": "code",
   "execution_count": 29,
   "metadata": {},
   "outputs": [],
   "source": [
    "base_tot['amt_day_rto'] = base_tot.amt_day_cnt / base_tot.norm_wrk_day"
   ]
  },
  {
   "cell_type": "code",
   "execution_count": 30,
   "metadata": {},
   "outputs": [],
   "source": [
    "reg_churn = base_tot.drop([\"mx_xmit_date\", \"last_xmit_date\",\"min_xmit_date\", \"norm_wrk_day\", \"amt_day_cnt\",\n",
    "                      \"min_mm_amt\", \"mx_mm_amt\", \"max_amt_month\", \"min_amt_month\", \"mx_mm_cnt\", \"min_mm_cnt\"], axis = 1)"
   ]
  },
  {
   "cell_type": "code",
   "execution_count": 31,
   "metadata": {},
   "outputs": [],
   "source": [
    "#=====================================#\n",
    "#        예측 모형 적용\n",
    "#=====================================#"
   ]
  },
  {
   "cell_type": "code",
   "execution_count": 32,
   "metadata": {},
   "outputs": [],
   "source": [
    "import joblib"
   ]
  },
  {
   "cell_type": "code",
   "execution_count": 33,
   "metadata": {},
   "outputs": [],
   "source": [
    "rf = joblib.load('churn_model.pkl')"
   ]
  },
  {
   "cell_type": "code",
   "execution_count": 34,
   "metadata": {},
   "outputs": [],
   "source": [
    "reg_churn['cd_lv2_nm_f'] = reg_churn.cd_lv2_nm.factorize()[0]"
   ]
  },
  {
   "cell_type": "code",
   "execution_count": 35,
   "metadata": {},
   "outputs": [],
   "source": [
    "X = reg_churn.drop(['reg_no','dbr_new_svr_code','map_cd', 'cd_lv2_nm'], axis= 1)"
   ]
  },
  {
   "cell_type": "code",
   "execution_count": 36,
   "metadata": {},
   "outputs": [
    {
     "data": {
      "text/plain": [
       "56"
      ]
     },
     "execution_count": 36,
     "metadata": {},
     "output_type": "execute_result"
    }
   ],
   "source": [
    "len(X.columns)"
   ]
  },
  {
   "cell_type": "code",
   "execution_count": 37,
   "metadata": {},
   "outputs": [],
   "source": [
    "y_pred = rf.predict_proba(X)[:,1] "
   ]
  },
  {
   "cell_type": "code",
   "execution_count": 38,
   "metadata": {},
   "outputs": [],
   "source": [
    "reg_churn['result'] = y_pred"
   ]
  },
  {
   "cell_type": "code",
   "execution_count": 41,
   "metadata": {},
   "outputs": [],
   "source": [
    "reg_churn['result2'] = np.digitize(reg_churn['result'], [0, 0.15, 0.35, 0.5, 1.0], right = False)"
   ]
  },
  {
   "cell_type": "code",
   "execution_count": 42,
   "metadata": {},
   "outputs": [
    {
     "data": {
      "text/plain": [
       "result2\n",
       "1    69776\n",
       "2     7855\n",
       "3     1376\n",
       "4      746\n",
       "Name: reg_no, dtype: int64"
      ]
     },
     "execution_count": 42,
     "metadata": {},
     "output_type": "execute_result"
    }
   ],
   "source": [
    "reg_churn[['reg_no','result', 'result2']].groupby(\"result2\").reg_no.nunique()"
   ]
  },
  {
   "cell_type": "code",
   "execution_count": 46,
   "metadata": {
    "scrolled": true
   },
   "outputs": [
    {
     "data": {
      "text/plain": [
       "<matplotlib.axes._subplots.AxesSubplot at 0x1c305300978>"
      ]
     },
     "execution_count": 46,
     "metadata": {},
     "output_type": "execute_result"
    },
    {
     "data": {
      "image/png": "[encoded data removed]",
      "text/plain": [
       "<Figure size 432x288 with 1 Axes>"
      ]
     },
     "metadata": {
      "needs_background": "light"
     },
     "output_type": "display_data"
    }
   ],
   "source": [
    "reg_churn['result'].plot(kind = 'hist')"
   ]
  },
  {
   "cell_type": "code",
   "execution_count": 47,
   "metadata": {},
   "outputs": [
    {
     "data": {
      "text/plain": [
       "result2\n",
       "1    0.874901\n",
       "2    0.098492\n",
       "3    0.017253\n",
       "4    0.009354\n",
       "Name: reg_no, dtype: float64"
      ]
     },
     "execution_count": 47,
     "metadata": {},
     "output_type": "execute_result"
    }
   ],
   "source": [
    "reg_churn[['reg_no','result', 'result2']].groupby(\"result2\").reg_no.nunique() / len(reg_churn)"
   ]
  }
 ],
 "metadata": {
  "kernelspec": {
   "display_name": "Python 3",
   "language": "python",
   "name": "python3"
  },
  "language_info": {
   "codemirror_mode": {
    "name": "ipython",
    "version": 3
   },
   "file_extension": ".py",
   "mimetype": "text/x-python",
   "name": "python",
   "nbconvert_exporter": "python",
   "pygments_lexer": "ipython3",
   "version": "3.6.9"
  }
 },
 "nbformat": 4,
 "nbformat_minor": 2
}
