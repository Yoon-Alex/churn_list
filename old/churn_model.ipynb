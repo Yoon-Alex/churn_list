{
 "cells": [
  {
   "cell_type": "code",
   "execution_count": 1,
   "metadata": {},
   "outputs": [
    {
     "data": {
      "text/html": [
       "<style>.container { width: 100% !important; }</style>"
      ],
      "text/plain": [
       "<IPython.core.display.HTML object>"
      ]
     },
     "metadata": {},
     "output_type": "display_data"
    }
   ],
   "source": [
    "from IPython.core.display import display, HTML\n",
    "display(HTML(\"<style>.container { width: 100% !important; }</style>\"))"
   ]
  },
  {
   "cell_type": "code",
   "execution_count": 2,
   "metadata": {},
   "outputs": [],
   "source": [
    "#===========================================================\n",
    "# File Name : B_DA_RETL_CHURN MODEL                           \n",
    "# Description :                                             \n",
    "# Date : 2020-11-12                                         \n",
    "# Writer : Yoon Jun Beom\n",
    "# Packages :                                                \n",
    "# Note :                           \n",
    "#==========================================================="
   ]
  },
  {
   "cell_type": "markdown",
   "metadata": {},
   "source": [
    "# Data Preprocessing"
   ]
  },
  {
   "cell_type": "code",
   "execution_count": 3,
   "metadata": {},
   "outputs": [],
   "source": [
    "# library import \n",
    "import pandas as pd\n",
    "import numpy as np\n",
    "\n",
    "import warnings\n",
    "warnings.filterwarnings('ignore')\n",
    "\n",
    "from sklearn.ensemble import RandomForestClassifier\n",
    "from sklearn.model_selection import train_test_split\n",
    "from sklearn.model_selection import GridSearchCV\n",
    "from sklearn.metrics import accuracy_score, f1_score, recall_score, precision_score, roc_auc_score\n",
    "from sklearn.metrics import make_scorer\n",
    "import seaborn as sns\n",
    "\n",
    "import joblib"
   ]
  },
  {
   "cell_type": "code",
   "execution_count": 4,
   "metadata": {},
   "outputs": [],
   "source": [
    "# 가맹점 별 운영정보 데이터\n",
    "base = pd.read_csv(r\".\\b_da_retl_churn_anl_md_tmp_table.csv\")\n",
    "base.drop(\"레코드 수\", axis= 1, inplace = True)\n",
    "\n",
    "base = base[['reg_no','amt_day_cnt', 'avg_amt', 'avg_cnt', 'avg_mm_amt', 'avg_mm_cnt',\n",
    "           'bf_month_diff_amt', 'bf_month_diff_cnt', 'high_lw_term',\n",
    "           'join_term', 'last_xmit_date', 'm3_sd_amt', 'm3_sd_cnt', 'm_00_app_amt',\n",
    "           'm_00_app_cnt', 'm_01_app_amt', 'm_01_app_cnt', 'm_02_app_amt',\n",
    "           'm_02_app_cnt', 'm_03_app_amt', 'm_03_app_cnt', 'm_04_app_amt',\n",
    "           'm_04_app_cnt', 'm_05_app_amt', 'm_05_app_cnt', 'max_amt_month',\n",
    "           'min_amt_month', 'min_mm_amt', 'min_mm_cnt', 'min_xmit_date',\n",
    "           'month_cnt', 'mx_mm_amt', 'mx_mm_cnt', 'mx_xmit_date', \n",
    "           'sd_amt', 'sd_mm_amt', 'sd_mm_cnt', 'sum_amt', 'sum_cnt',\n",
    "           'wk2_amt_diff', 'wk2_cnt_diff', 'churn_yn']]"
   ]
  },
  {
   "cell_type": "code",
   "execution_count": 5,
   "metadata": {},
   "outputs": [],
   "source": [
    "# 가맹점코드 매핑, 분류 조정\n",
    "map_code_info = pd.read_csv(r\".\\b_svr_map_code_info.csv\")\n",
    "map_code_info.drop(['레코드 수', 'load_dtm'], axis = 1, inplace = True)\n",
    "\n",
    "li = [ \n",
    "[\"부페\", \"중식\", \"퓨전/기타음식점\", \"한식-일반음식점\", \"양식\", \"일식/수산물\", \"분식/휴게음식점\", \"패스트푸드/제과점\"]\t, \"음식점\" ,\n",
    "[\"실내스포츠시설운영업\", \"실외스포츠시설운영업\", \"스포츠시설운영업\"]\t, \"스포츠시설운영업\",\n",
    "[\"예체능계학원\", \"외국어학원\", \"일반교과학원\", \"기타학원\", \"학습지/코칭교육\"]\t, \"학원\",\n",
    "[\"자동차및부품판매점\", \"자동차정비/세차/주차장\"]\t, \"자동차관련판매점\",\n",
    "[\"유흥주점-무도/가무\", \"일반유흥주점\"]\t, \"주점\",\n",
    "[\"독서실/도서관\"]\t, \"기타시설운영업\",\n",
    "[\"세탁/가사/전문서비스\", \"주택수리서비스\", \"용품수리서비스\"]\t, \"대행/용역/인력알선\",\n",
    "[\"약국/한약방\", \"유사의료업\", \"의료관련서비스업\"]\t, \"병원\",\n",
    "[\"예식/의례/관혼상제\"]\t, \"수의업\"\n",
    "]    \n",
    "a = []  \n",
    "b = []\n",
    "\n",
    "for i in li:\n",
    "    if type(i) == list :\n",
    "        a.append(i)\n",
    "    else :\n",
    "        b.append(i)\n",
    "        \n",
    "for i, j in zip(a, b):\n",
    "    map_code_info['cd_lv2_nm'].replace(i, j, inplace= True)        "
   ]
  },
  {
   "cell_type": "code",
   "execution_count": 6,
   "metadata": {},
   "outputs": [],
   "source": [
    "# 가맹점 정보 매핑\n",
    "debit_retl = pd.read_csv(r\".\\debit_retl.csv\", dtype='str')"
   ]
  },
  {
   "cell_type": "code",
   "execution_count": 7,
   "metadata": {},
   "outputs": [],
   "source": [
    "debit_retl = debit_retl[['reg_no','h_code','dbr_new_svr_code']]\n",
    "map_code_info = map_code_info[['map_cd','map_gubun','cd_lv2_nm']]\n",
    "debit_retl = debit_retl.merge(map_code_info.query(\"map_gubun == 'V'\"), 'left', left_on= 'dbr_new_svr_code', right_on = 'map_cd')"
   ]
  },
  {
   "cell_type": "code",
   "execution_count": 8,
   "metadata": {},
   "outputs": [],
   "source": [
    "new = debit_retl.merge(map_code_info.query(\"map_gubun == 'V'\"), 'left', left_on= 'dbr_new_svr_code', right_on = 'map_cd')"
   ]
  },
  {
   "cell_type": "code",
   "execution_count": 10,
   "metadata": {},
   "outputs": [],
   "source": [
    "month_tot = base.copy()"
   ]
  },
  {
   "cell_type": "code",
   "execution_count": 11,
   "metadata": {},
   "outputs": [],
   "source": [
    "month_tot['reg_no'] = month_tot.reg_no.astype(\"str\")"
   ]
  },
  {
   "cell_type": "code",
   "execution_count": 12,
   "metadata": {},
   "outputs": [],
   "source": [
    "# Feature engineering (비중)\n",
    "for i in range(6):\n",
    "    month_tot[f'm{str(i+1)}_cnt_rto'] = month_tot[f'm_{str(i).zfill(2)}_app_cnt'] / month_tot['sum_cnt'] \n",
    "    month_tot[f'm{str(i+1)}_amt_rto'] = month_tot[f'm_{str(i).zfill(2)}_app_amt'] / month_tot['sum_amt'] \n",
    "\n",
    "# MoM (전월 대비 증감율)\n",
    "for i in range(5):        \n",
    "    month_tot[f'm{str(i).zfill(2)}_cnt_updn_rto'] = (month_tot[f'm_{str(i).zfill(2)}_app_cnt'] / month_tot[f'm_{str(i+1).zfill(2)}_app_cnt']) -1 \n",
    "    month_tot[f'm{str(i).zfill(2)}_amt_updn_rto'] = (month_tot[f'm_{str(i).zfill(2)}_app_amt'] / month_tot[f'm_{str(i+1).zfill(2)}_app_amt']) -1 "
   ]
  },
  {
   "cell_type": "code",
   "execution_count": 13,
   "metadata": {},
   "outputs": [],
   "source": [
    "month_tot.replace([np.inf, -np.inf], np.nan, inplace = True)"
   ]
  },
  {
   "cell_type": "code",
   "execution_count": 14,
   "metadata": {},
   "outputs": [],
   "source": [
    "for col in month_tot.columns : # [month_tot.columns.str.contains(r\"(_rto)\")]\n",
    "    if month_tot[col].dtype == 'object': \n",
    "        pass \n",
    "    month_tot.fillna({col:0}, inplace = True)\n",
    "\n",
    "month_tot['avg_cnt_updn_rto'] = month_tot[month_tot.columns[month_tot.columns.str.contains(r\"(_cnt_updn_rto)\")]].mean(1)\n",
    "month_tot['avg_amt_updn_rto'] = month_tot[month_tot.columns[month_tot.columns.str.contains(r\"(_amt_updn_rto)\")]].mean(1)\n",
    "\n",
    "base_tot = month_tot.merge(debit_retl[['reg_no','cd_lv2_nm']], 'inner', on = 'reg_no')\n",
    "\n",
    "base_tot = base_tot[base_tot.cd_lv2_nm.notna()]"
   ]
  },
  {
   "cell_type": "code",
   "execution_count": 15,
   "metadata": {},
   "outputs": [],
   "source": [
    "# 운영했던 일자 수\n",
    "base_tot['norm_wrk_day'] = \\\n",
    "pd.to_datetime(base_tot.mx_xmit_date, format = \"%Y%m%d\") - pd.to_datetime(base_tot.min_xmit_date, format = \"%Y%m%d\") + np.timedelta64(1, 'D')\n",
    "base_tot['norm_wrk_day'] = base_tot.norm_wrk_day / np.timedelta64(1, 'D')"
   ]
  },
  {
   "cell_type": "code",
   "execution_count": 16,
   "metadata": {},
   "outputs": [],
   "source": [
    "# 매출일 수 / 운영일 수\n",
    "base_tot['amt_day_rto'] = base_tot.amt_day_cnt / base_tot.norm_wrk_day"
   ]
  },
  {
   "cell_type": "code",
   "execution_count": 17,
   "metadata": {},
   "outputs": [],
   "source": [
    "reg_churn_model = base_tot.drop([\"mx_xmit_date\", \"last_xmit_date\",\"min_xmit_date\", \"norm_wrk_day\", \"amt_day_cnt\",\n",
    "                      \"min_mm_amt\", \"mx_mm_amt\", \"max_amt_month\", \"min_amt_month\", \"mx_mm_cnt\", \"min_mm_cnt\"], axis = 1)"
   ]
  },
  {
   "cell_type": "markdown",
   "metadata": {},
   "source": [
    "# Build Model"
   ]
  },
  {
   "cell_type": "code",
   "execution_count": 19,
   "metadata": {},
   "outputs": [],
   "source": [
    "reg_churn_model['churn_yn'] = reg_churn_model.churn_yn.factorize()[0]\n",
    "reg_churn_model['cd_lv2_nm'] = reg_churn_model.cd_lv2_nm.factorize()[0]\n",
    "\n",
    "y = reg_churn_model['churn_yn'].values\n",
    "X = reg_churn_model.drop(['reg_no','churn_yn'], axis = 1).values\n",
    "\n",
    "X_train, X_test, y_train, y_test = train_test_split(X, y, test_size = 0.3, random_state = 1)"
   ]
  },
  {
   "cell_type": "code",
   "execution_count": 23,
   "metadata": {},
   "outputs": [],
   "source": [
    "m = round(np.sqrt(len(reg_churn_model.drop(['reg_no','churn_yn'], axis = 1).columns)),0)"
   ]
  },
  {
   "cell_type": "code",
   "execution_count": 20,
   "metadata": {},
   "outputs": [],
   "source": [
    "rf = RandomForestClassifier(n_estimators=100, max_features= \"sqrt\", random_state=1)"
   ]
  },
  {
   "cell_type": "code",
   "execution_count": 21,
   "metadata": {},
   "outputs": [],
   "source": [
    "rf.fit(X_train, y_train)\n",
    "y_pred = rf.predict(X_test)"
   ]
  },
  {
   "cell_type": "code",
   "execution_count": 22,
   "metadata": {},
   "outputs": [
    {
     "name": "stdout",
     "output_type": "stream",
     "text": [
      "Model accuracy score with 10 decision-trees : 0.9583\n"
     ]
    }
   ],
   "source": [
    "print('Model accuracy score with 10 decision-trees : {0:0.4f}'.format(accuracy_score(y_test, y_pred.round())))"
   ]
  },
  {
   "cell_type": "code",
   "execution_count": 23,
   "metadata": {},
   "outputs": [
    {
     "data": {
      "text/plain": [
       "<matplotlib.axes._subplots.AxesSubplot at 0x1af90b29630>"
      ]
     },
     "execution_count": 23,
     "metadata": {},
     "output_type": "execute_result"
    },
    {
     "data": {
      "image/png": "[encoded data removed]",
      "text/plain": [
       "<Figure size 432x288 with 2 Axes>"
      ]
     },
     "metadata": {
      "needs_background": "light"
     },
     "output_type": "display_data"
    }
   ],
   "source": [
    "from sklearn.metrics import confusion_matrix\n",
    "cm = confusion_matrix(y_test, y_pred.round())\n",
    "cm_matrix = pd.DataFrame(data=cm, columns=['Actual Positive:1', 'Actual Negative:0'], \n",
    "                                 index=['Predict Positive:1', 'Predict Negative:0'])\n",
    "sns.heatmap(cm_matrix, annot=True, fmt='d', cmap='YlGnBu')"
   ]
  },
  {
   "cell_type": "markdown",
   "metadata": {},
   "source": [
    "# K-fold test (k = 3)\n",
    "##### stratified k-fold cross-validation (shuffle)"
   ]
  },
  {
   "cell_type": "code",
   "execution_count": 35,
   "metadata": {},
   "outputs": [],
   "source": [
    "from sklearn.model_selection import StratifiedShuffleSplit"
   ]
  },
  {
   "cell_type": "code",
   "execution_count": null,
   "metadata": {},
   "outputs": [],
   "source": [
    "skf = StratifiedShuffleSplit(n_splits=3)"
   ]
  },
  {
   "cell_type": "code",
   "execution_count": null,
   "metadata": {},
   "outputs": [],
   "source": [
    "rf = RandomForestClassifier(n_estimators=50, random_state=1)"
   ]
  },
  {
   "cell_type": "code",
   "execution_count": null,
   "metadata": {},
   "outputs": [],
   "source": [
    "for idx, (train_index, test_index) in enumerate(skf.split(X, y)):\n",
    "    X_train, X_test = X[train_index], X[test_index]\n",
    "    y_train, y_test = y[train_index], y[test_index]\n",
    "    \n",
    "    rf.fit(X_train, y_train)\n",
    "    y_prob = rf.predict_proba(X_test)\n",
    "    y_pred = (y_prob[:,1] >= 0.35).astype(\"int\")\n",
    "    print(f\"______________{idx}______________\") \n",
    "    print(f\"accuracy_score : {accuracy_score(y_test, y_pred):0.4f}\")\n",
    "    print(f\"f1_score : {f1_score(y_test, y_pred):0.4f}\")\n",
    "    print(f\"precision_score : {precision_score(y_test, y_pred):0.4f}\")\n",
    "    print(f\"recall_score : {recall_score(y_test, y_pred):0.4f}\")\n",
    "    print(f\"_______________________________\") "
   ]
  },
  {
   "cell_type": "markdown",
   "metadata": {},
   "source": [
    "# Parameter Select \n",
    "#### GridSearch"
   ]
  },
  {
   "cell_type": "code",
   "execution_count": 30,
   "metadata": {},
   "outputs": [],
   "source": [
    "scoring = {'Accuracy': make_scorer(accuracy_score),\n",
    "            'Precision': 'precision',\n",
    "            'Recall': make_scorer(recall_score),\n",
    "            'F1_score': make_scorer(f1_score),\n",
    "            }"
   ]
  },
  {
   "cell_type": "code",
   "execution_count": 41,
   "metadata": {},
   "outputs": [],
   "source": [
    "param_grid = {\n",
    "    'max_depth': [i for i in range(6,15)], \n",
    "    'n_estimators': [100], #[10, 50, 100],\n",
    "    'max_features': ['auto', 'sqrt', 'log2']\n",
    "}"
   ]
  },
  {
   "cell_type": "code",
   "execution_count": 42,
   "metadata": {},
   "outputs": [],
   "source": [
    "estimator = RandomForestClassifier()"
   ]
  },
  {
   "cell_type": "code",
   "execution_count": 66,
   "metadata": {},
   "outputs": [],
   "source": [
    "skf = StratifiedShuffleSplit(n_splits=5)"
   ]
  },
  {
   "cell_type": "code",
   "execution_count": 67,
   "metadata": {},
   "outputs": [
    {
     "name": "stdout",
     "output_type": "stream",
     "text": [
      "best_parameter : {'max_depth': 14, 'max_features': 'sqrt', 'n_estimators': 100}\n"
     ]
    }
   ],
   "source": [
    "grid_search = GridSearchCV(estimator = estimator, \n",
    "                           param_grid = param_grid, \n",
    "                           cv = skf,\n",
    "                           scoring = scoring,\n",
    "                           refit='F1_score',\n",
    "                           n_jobs = -1)\n",
    "\n",
    "# fit with (x_train, y_train)\n",
    "grid_search.fit(X, y)\n",
    "print(f\"best_parameter : {grid_search.best_params_}\")"
   ]
  },
  {
   "cell_type": "code",
   "execution_count": 68,
   "metadata": {},
   "outputs": [],
   "source": [
    "result = pd.DataFrame(grid_search.cv_results_['params'])\n",
    "result['mean_test_Accuracy'] = grid_search.cv_results_['mean_test_Accuracy']\n",
    "result['mean_test_F1_score'] = grid_search.cv_results_['mean_test_F1_score']"
   ]
  },
  {
   "cell_type": "code",
   "execution_count": 69,
   "metadata": {},
   "outputs": [
    {
     "data": {
      "text/html": [
       "<div>\n",
       "<style scoped>\n",
       "    .dataframe tbody tr th:only-of-type {\n",
       "        vertical-align: middle;\n",
       "    }\n",
       "\n",
       "    .dataframe tbody tr th {\n",
       "        vertical-align: top;\n",
       "    }\n",
       "\n",
       "    .dataframe thead th {\n",
       "        text-align: right;\n",
       "    }\n",
       "</style>\n",
       "<table border=\"1\" class=\"dataframe\">\n",
       "  <thead>\n",
       "    <tr style=\"text-align: right;\">\n",
       "      <th></th>\n",
       "      <th>max_depth</th>\n",
       "      <th>max_features</th>\n",
       "      <th>n_estimators</th>\n",
       "      <th>mean_test_Accuracy</th>\n",
       "      <th>mean_test_F1_score</th>\n",
       "    </tr>\n",
       "  </thead>\n",
       "  <tbody>\n",
       "    <tr>\n",
       "      <th>22</th>\n",
       "      <td>13</td>\n",
       "      <td>sqrt</td>\n",
       "      <td>100</td>\n",
       "      <td>0.959884</td>\n",
       "      <td>0.620748</td>\n",
       "    </tr>\n",
       "    <tr>\n",
       "      <th>25</th>\n",
       "      <td>14</td>\n",
       "      <td>sqrt</td>\n",
       "      <td>100</td>\n",
       "      <td>0.959791</td>\n",
       "      <td>0.622894</td>\n",
       "    </tr>\n",
       "    <tr>\n",
       "      <th>24</th>\n",
       "      <td>14</td>\n",
       "      <td>auto</td>\n",
       "      <td>100</td>\n",
       "      <td>0.959395</td>\n",
       "      <td>0.619328</td>\n",
       "    </tr>\n",
       "    <tr>\n",
       "      <th>21</th>\n",
       "      <td>13</td>\n",
       "      <td>auto</td>\n",
       "      <td>100</td>\n",
       "      <td>0.959302</td>\n",
       "      <td>0.616143</td>\n",
       "    </tr>\n",
       "    <tr>\n",
       "      <th>19</th>\n",
       "      <td>12</td>\n",
       "      <td>sqrt</td>\n",
       "      <td>100</td>\n",
       "      <td>0.958604</td>\n",
       "      <td>0.605786</td>\n",
       "    </tr>\n",
       "  </tbody>\n",
       "</table>\n",
       "</div>"
      ],
      "text/plain": [
       "    max_depth max_features  n_estimators  mean_test_Accuracy  \\\n",
       "22         13         sqrt           100            0.959884   \n",
       "25         14         sqrt           100            0.959791   \n",
       "24         14         auto           100            0.959395   \n",
       "21         13         auto           100            0.959302   \n",
       "19         12         sqrt           100            0.958604   \n",
       "\n",
       "    mean_test_F1_score  \n",
       "22            0.620748  \n",
       "25            0.622894  \n",
       "24            0.619328  \n",
       "21            0.616143  \n",
       "19            0.605786  "
      ]
     },
     "execution_count": 69,
     "metadata": {},
     "output_type": "execute_result"
    }
   ],
   "source": [
    "result.sort_values(by='mean_test_Accuracy', ascending=False).head()"
   ]
  },
  {
   "cell_type": "code",
   "execution_count": 70,
   "metadata": {},
   "outputs": [
    {
     "data": {
      "text/html": [
       "<div>\n",
       "<style scoped>\n",
       "    .dataframe tbody tr th:only-of-type {\n",
       "        vertical-align: middle;\n",
       "    }\n",
       "\n",
       "    .dataframe tbody tr th {\n",
       "        vertical-align: top;\n",
       "    }\n",
       "\n",
       "    .dataframe thead th {\n",
       "        text-align: right;\n",
       "    }\n",
       "</style>\n",
       "<table border=\"1\" class=\"dataframe\">\n",
       "  <thead>\n",
       "    <tr style=\"text-align: right;\">\n",
       "      <th></th>\n",
       "      <th>max_depth</th>\n",
       "      <th>max_features</th>\n",
       "      <th>n_estimators</th>\n",
       "      <th>mean_test_Accuracy</th>\n",
       "      <th>mean_test_F1_score</th>\n",
       "    </tr>\n",
       "  </thead>\n",
       "  <tbody>\n",
       "    <tr>\n",
       "      <th>25</th>\n",
       "      <td>14</td>\n",
       "      <td>sqrt</td>\n",
       "      <td>100</td>\n",
       "      <td>0.959791</td>\n",
       "      <td>0.622894</td>\n",
       "    </tr>\n",
       "    <tr>\n",
       "      <th>22</th>\n",
       "      <td>13</td>\n",
       "      <td>sqrt</td>\n",
       "      <td>100</td>\n",
       "      <td>0.959884</td>\n",
       "      <td>0.620748</td>\n",
       "    </tr>\n",
       "    <tr>\n",
       "      <th>24</th>\n",
       "      <td>14</td>\n",
       "      <td>auto</td>\n",
       "      <td>100</td>\n",
       "      <td>0.959395</td>\n",
       "      <td>0.619328</td>\n",
       "    </tr>\n",
       "    <tr>\n",
       "      <th>21</th>\n",
       "      <td>13</td>\n",
       "      <td>auto</td>\n",
       "      <td>100</td>\n",
       "      <td>0.959302</td>\n",
       "      <td>0.616143</td>\n",
       "    </tr>\n",
       "    <tr>\n",
       "      <th>19</th>\n",
       "      <td>12</td>\n",
       "      <td>sqrt</td>\n",
       "      <td>100</td>\n",
       "      <td>0.958604</td>\n",
       "      <td>0.605786</td>\n",
       "    </tr>\n",
       "  </tbody>\n",
       "</table>\n",
       "</div>"
      ],
      "text/plain": [
       "    max_depth max_features  n_estimators  mean_test_Accuracy  \\\n",
       "25         14         sqrt           100            0.959791   \n",
       "22         13         sqrt           100            0.959884   \n",
       "24         14         auto           100            0.959395   \n",
       "21         13         auto           100            0.959302   \n",
       "19         12         sqrt           100            0.958604   \n",
       "\n",
       "    mean_test_F1_score  \n",
       "25            0.622894  \n",
       "22            0.620748  \n",
       "24            0.619328  \n",
       "21            0.616143  \n",
       "19            0.605786  "
      ]
     },
     "execution_count": 70,
     "metadata": {},
     "output_type": "execute_result"
    }
   ],
   "source": [
    "result.sort_values(by='mean_test_F1_score', ascending=False).head()"
   ]
  },
  {
   "cell_type": "code",
   "execution_count": 53,
   "metadata": {},
   "outputs": [],
   "source": [
    "best_model = grid_search.best_estimator_"
   ]
  },
  {
   "cell_type": "markdown",
   "metadata": {},
   "source": [
    "# best model \n",
    "#### Select Cutoff (0.35)"
   ]
  },
  {
   "cell_type": "code",
   "execution_count": 71,
   "metadata": {},
   "outputs": [],
   "source": [
    "rf = RandomForestClassifier(n_estimators=100, max_features= \"sqrt\", max_depth= 14, random_state=1)"
   ]
  },
  {
   "cell_type": "code",
   "execution_count": 74,
   "metadata": {},
   "outputs": [
    {
     "data": {
      "text/plain": [
       "RandomForestClassifier(max_depth=14, max_features='sqrt', random_state=1)"
      ]
     },
     "execution_count": 74,
     "metadata": {},
     "output_type": "execute_result"
    }
   ],
   "source": [
    "rf.fit(X_train, y_train)"
   ]
  },
  {
   "cell_type": "code",
   "execution_count": 78,
   "metadata": {},
   "outputs": [],
   "source": [
    "# find cut off\n",
    "y_prob = rf.predict_proba(X_test)\n",
    "i = 0.3\n",
    "data = []\n",
    "while True : \n",
    "    if i > 0.9 :\n",
    "        break\n",
    "    y_pred = (y_prob[:,1] >= i).astype(\"int\")\n",
    "    data.append([i,accuracy_score(y_test, y_pred), precision_score(y_test, y_pred), recall_score(y_test, y_pred),f1_score(y_test, y_pred), roc_auc_score(y_test, y_pred)])\n",
    "    i = i + 0.01"
   ]
  },
  {
   "cell_type": "code",
   "execution_count": 79,
   "metadata": {
    "scrolled": true
   },
   "outputs": [
    {
     "data": {
      "text/html": [
       "<div>\n",
       "<style scoped>\n",
       "    .dataframe tbody tr th:only-of-type {\n",
       "        vertical-align: middle;\n",
       "    }\n",
       "\n",
       "    .dataframe tbody tr th {\n",
       "        vertical-align: top;\n",
       "    }\n",
       "\n",
       "    .dataframe thead th {\n",
       "        text-align: right;\n",
       "    }\n",
       "</style>\n",
       "<table border=\"1\" class=\"dataframe\">\n",
       "  <thead>\n",
       "    <tr style=\"text-align: right;\">\n",
       "      <th></th>\n",
       "      <th>cutoff</th>\n",
       "      <th>accuracy</th>\n",
       "      <th>precision</th>\n",
       "      <th>recall</th>\n",
       "      <th>f1_score</th>\n",
       "      <th>roc_auc_score</th>\n",
       "    </tr>\n",
       "  </thead>\n",
       "  <tbody>\n",
       "    <tr>\n",
       "      <th>0</th>\n",
       "      <td>0.30</td>\n",
       "      <td>0.950320</td>\n",
       "      <td>0.609756</td>\n",
       "      <td>0.732759</td>\n",
       "      <td>0.665623</td>\n",
       "      <td>0.849411</td>\n",
       "    </tr>\n",
       "    <tr>\n",
       "      <th>1</th>\n",
       "      <td>0.31</td>\n",
       "      <td>0.951367</td>\n",
       "      <td>0.620178</td>\n",
       "      <td>0.720690</td>\n",
       "      <td>0.666667</td>\n",
       "      <td>0.844375</td>\n",
       "    </tr>\n",
       "    <tr>\n",
       "      <th>2</th>\n",
       "      <td>0.32</td>\n",
       "      <td>0.952763</td>\n",
       "      <td>0.635514</td>\n",
       "      <td>0.703448</td>\n",
       "      <td>0.667758</td>\n",
       "      <td>0.837127</td>\n",
       "    </tr>\n",
       "    <tr>\n",
       "      <th>3</th>\n",
       "      <td>0.33</td>\n",
       "      <td>0.953345</td>\n",
       "      <td>0.643200</td>\n",
       "      <td>0.693103</td>\n",
       "      <td>0.667220</td>\n",
       "      <td>0.832640</td>\n",
       "    </tr>\n",
       "    <tr>\n",
       "      <th>4</th>\n",
       "      <td>0.34</td>\n",
       "      <td>0.954043</td>\n",
       "      <td>0.654424</td>\n",
       "      <td>0.675862</td>\n",
       "      <td>0.664970</td>\n",
       "      <td>0.825018</td>\n",
       "    </tr>\n",
       "    <tr>\n",
       "      <th>5</th>\n",
       "      <td>0.35</td>\n",
       "      <td>0.955323</td>\n",
       "      <td>0.668966</td>\n",
       "      <td>0.668966</td>\n",
       "      <td>0.668966</td>\n",
       "      <td>0.822505</td>\n",
       "    </tr>\n",
       "    <tr>\n",
       "      <th>6</th>\n",
       "      <td>0.36</td>\n",
       "      <td>0.955439</td>\n",
       "      <td>0.676840</td>\n",
       "      <td>0.650000</td>\n",
       "      <td>0.663149</td>\n",
       "      <td>0.813771</td>\n",
       "    </tr>\n",
       "    <tr>\n",
       "      <th>7</th>\n",
       "      <td>0.37</td>\n",
       "      <td>0.955207</td>\n",
       "      <td>0.680222</td>\n",
       "      <td>0.634483</td>\n",
       "      <td>0.656557</td>\n",
       "      <td>0.806449</td>\n",
       "    </tr>\n",
       "    <tr>\n",
       "      <th>8</th>\n",
       "      <td>0.38</td>\n",
       "      <td>0.955323</td>\n",
       "      <td>0.687023</td>\n",
       "      <td>0.620690</td>\n",
       "      <td>0.652174</td>\n",
       "      <td>0.800114</td>\n",
       "    </tr>\n",
       "    <tr>\n",
       "      <th>9</th>\n",
       "      <td>0.39</td>\n",
       "      <td>0.956021</td>\n",
       "      <td>0.702811</td>\n",
       "      <td>0.603448</td>\n",
       "      <td>0.649351</td>\n",
       "      <td>0.792491</td>\n",
       "    </tr>\n",
       "    <tr>\n",
       "      <th>10</th>\n",
       "      <td>0.40</td>\n",
       "      <td>0.956835</td>\n",
       "      <td>0.716356</td>\n",
       "      <td>0.596552</td>\n",
       "      <td>0.650988</td>\n",
       "      <td>0.789729</td>\n",
       "    </tr>\n",
       "    <tr>\n",
       "      <th>11</th>\n",
       "      <td>0.41</td>\n",
       "      <td>0.957184</td>\n",
       "      <td>0.726496</td>\n",
       "      <td>0.586207</td>\n",
       "      <td>0.648855</td>\n",
       "      <td>0.785118</td>\n",
       "    </tr>\n",
       "    <tr>\n",
       "      <th>12</th>\n",
       "      <td>0.42</td>\n",
       "      <td>0.957533</td>\n",
       "      <td>0.740492</td>\n",
       "      <td>0.570690</td>\n",
       "      <td>0.644596</td>\n",
       "      <td>0.778108</td>\n",
       "    </tr>\n",
       "    <tr>\n",
       "      <th>13</th>\n",
       "      <td>0.43</td>\n",
       "      <td>0.958115</td>\n",
       "      <td>0.755814</td>\n",
       "      <td>0.560345</td>\n",
       "      <td>0.643564</td>\n",
       "      <td>0.773622</td>\n",
       "    </tr>\n",
       "    <tr>\n",
       "      <th>14</th>\n",
       "      <td>0.44</td>\n",
       "      <td>0.958813</td>\n",
       "      <td>0.774272</td>\n",
       "      <td>0.550000</td>\n",
       "      <td>0.643145</td>\n",
       "      <td>0.769198</td>\n",
       "    </tr>\n",
       "    <tr>\n",
       "      <th>15</th>\n",
       "      <td>0.45</td>\n",
       "      <td>0.958115</td>\n",
       "      <td>0.780612</td>\n",
       "      <td>0.527586</td>\n",
       "      <td>0.629630</td>\n",
       "      <td>0.758428</td>\n",
       "    </tr>\n",
       "    <tr>\n",
       "      <th>16</th>\n",
       "      <td>0.46</td>\n",
       "      <td>0.958115</td>\n",
       "      <td>0.794118</td>\n",
       "      <td>0.512069</td>\n",
       "      <td>0.622642</td>\n",
       "      <td>0.751231</td>\n",
       "    </tr>\n",
       "    <tr>\n",
       "      <th>17</th>\n",
       "      <td>0.47</td>\n",
       "      <td>0.957766</td>\n",
       "      <td>0.807365</td>\n",
       "      <td>0.491379</td>\n",
       "      <td>0.610932</td>\n",
       "      <td>0.741448</td>\n",
       "    </tr>\n",
       "    <tr>\n",
       "      <th>18</th>\n",
       "      <td>0.48</td>\n",
       "      <td>0.958232</td>\n",
       "      <td>0.827893</td>\n",
       "      <td>0.481034</td>\n",
       "      <td>0.608506</td>\n",
       "      <td>0.736899</td>\n",
       "    </tr>\n",
       "    <tr>\n",
       "      <th>19</th>\n",
       "      <td>0.49</td>\n",
       "      <td>0.958464</td>\n",
       "      <td>0.847352</td>\n",
       "      <td>0.468966</td>\n",
       "      <td>0.603774</td>\n",
       "      <td>0.731426</td>\n",
       "    </tr>\n",
       "    <tr>\n",
       "      <th>20</th>\n",
       "      <td>0.50</td>\n",
       "      <td>0.958232</td>\n",
       "      <td>0.862295</td>\n",
       "      <td>0.453448</td>\n",
       "      <td>0.594350</td>\n",
       "      <td>0.724104</td>\n",
       "    </tr>\n",
       "    <tr>\n",
       "      <th>21</th>\n",
       "      <td>0.51</td>\n",
       "      <td>0.958232</td>\n",
       "      <td>0.879725</td>\n",
       "      <td>0.441379</td>\n",
       "      <td>0.587830</td>\n",
       "      <td>0.718506</td>\n",
       "    </tr>\n",
       "    <tr>\n",
       "      <th>22</th>\n",
       "      <td>0.52</td>\n",
       "      <td>0.957650</td>\n",
       "      <td>0.897059</td>\n",
       "      <td>0.420690</td>\n",
       "      <td>0.572770</td>\n",
       "      <td>0.708598</td>\n",
       "    </tr>\n",
       "    <tr>\n",
       "      <th>23</th>\n",
       "      <td>0.53</td>\n",
       "      <td>0.957417</td>\n",
       "      <td>0.908397</td>\n",
       "      <td>0.410345</td>\n",
       "      <td>0.565321</td>\n",
       "      <td>0.703675</td>\n",
       "    </tr>\n",
       "    <tr>\n",
       "      <th>24</th>\n",
       "      <td>0.54</td>\n",
       "      <td>0.956254</td>\n",
       "      <td>0.904762</td>\n",
       "      <td>0.393103</td>\n",
       "      <td>0.548077</td>\n",
       "      <td>0.695055</td>\n",
       "    </tr>\n",
       "    <tr>\n",
       "      <th>25</th>\n",
       "      <td>0.55</td>\n",
       "      <td>0.955672</td>\n",
       "      <td>0.909465</td>\n",
       "      <td>0.381034</td>\n",
       "      <td>0.537060</td>\n",
       "      <td>0.689145</td>\n",
       "    </tr>\n",
       "    <tr>\n",
       "      <th>26</th>\n",
       "      <td>0.56</td>\n",
       "      <td>0.955439</td>\n",
       "      <td>0.919149</td>\n",
       "      <td>0.372414</td>\n",
       "      <td>0.530061</td>\n",
       "      <td>0.685022</td>\n",
       "    </tr>\n",
       "    <tr>\n",
       "      <th>27</th>\n",
       "      <td>0.57</td>\n",
       "      <td>0.954508</td>\n",
       "      <td>0.927602</td>\n",
       "      <td>0.353448</td>\n",
       "      <td>0.511860</td>\n",
       "      <td>0.675726</td>\n",
       "    </tr>\n",
       "    <tr>\n",
       "      <th>28</th>\n",
       "      <td>0.58</td>\n",
       "      <td>0.953927</td>\n",
       "      <td>0.942308</td>\n",
       "      <td>0.337931</td>\n",
       "      <td>0.497462</td>\n",
       "      <td>0.668217</td>\n",
       "    </tr>\n",
       "    <tr>\n",
       "      <th>29</th>\n",
       "      <td>0.59</td>\n",
       "      <td>0.952880</td>\n",
       "      <td>0.944162</td>\n",
       "      <td>0.320690</td>\n",
       "      <td>0.478764</td>\n",
       "      <td>0.659659</td>\n",
       "    </tr>\n",
       "    <tr>\n",
       "      <th>30</th>\n",
       "      <td>0.60</td>\n",
       "      <td>0.952531</td>\n",
       "      <td>0.947917</td>\n",
       "      <td>0.313793</td>\n",
       "      <td>0.471503</td>\n",
       "      <td>0.656273</td>\n",
       "    </tr>\n",
       "    <tr>\n",
       "      <th>31</th>\n",
       "      <td>0.61</td>\n",
       "      <td>0.951716</td>\n",
       "      <td>0.950820</td>\n",
       "      <td>0.300000</td>\n",
       "      <td>0.456094</td>\n",
       "      <td>0.649439</td>\n",
       "    </tr>\n",
       "    <tr>\n",
       "      <th>32</th>\n",
       "      <td>0.62</td>\n",
       "      <td>0.951600</td>\n",
       "      <td>0.960674</td>\n",
       "      <td>0.294828</td>\n",
       "      <td>0.451187</td>\n",
       "      <td>0.646977</td>\n",
       "    </tr>\n",
       "    <tr>\n",
       "      <th>33</th>\n",
       "      <td>0.63</td>\n",
       "      <td>0.951018</td>\n",
       "      <td>0.959538</td>\n",
       "      <td>0.286207</td>\n",
       "      <td>0.440903</td>\n",
       "      <td>0.642667</td>\n",
       "    </tr>\n",
       "    <tr>\n",
       "      <th>34</th>\n",
       "      <td>0.64</td>\n",
       "      <td>0.949738</td>\n",
       "      <td>0.962500</td>\n",
       "      <td>0.265517</td>\n",
       "      <td>0.416216</td>\n",
       "      <td>0.632384</td>\n",
       "    </tr>\n",
       "    <tr>\n",
       "      <th>35</th>\n",
       "      <td>0.65</td>\n",
       "      <td>0.948924</td>\n",
       "      <td>0.960784</td>\n",
       "      <td>0.253448</td>\n",
       "      <td>0.401091</td>\n",
       "      <td>0.626350</td>\n",
       "    </tr>\n",
       "    <tr>\n",
       "      <th>36</th>\n",
       "      <td>0.66</td>\n",
       "      <td>0.947993</td>\n",
       "      <td>0.965035</td>\n",
       "      <td>0.237931</td>\n",
       "      <td>0.381743</td>\n",
       "      <td>0.618654</td>\n",
       "    </tr>\n",
       "    <tr>\n",
       "      <th>37</th>\n",
       "      <td>0.67</td>\n",
       "      <td>0.947411</td>\n",
       "      <td>0.970588</td>\n",
       "      <td>0.227586</td>\n",
       "      <td>0.368715</td>\n",
       "      <td>0.613544</td>\n",
       "    </tr>\n",
       "    <tr>\n",
       "      <th>38</th>\n",
       "      <td>0.68</td>\n",
       "      <td>0.946481</td>\n",
       "      <td>0.968750</td>\n",
       "      <td>0.213793</td>\n",
       "      <td>0.350282</td>\n",
       "      <td>0.606647</td>\n",
       "    </tr>\n",
       "    <tr>\n",
       "      <th>39</th>\n",
       "      <td>0.69</td>\n",
       "      <td>0.944968</td>\n",
       "      <td>0.965217</td>\n",
       "      <td>0.191379</td>\n",
       "      <td>0.319424</td>\n",
       "      <td>0.595440</td>\n",
       "    </tr>\n",
       "    <tr>\n",
       "      <th>40</th>\n",
       "      <td>0.70</td>\n",
       "      <td>0.944386</td>\n",
       "      <td>0.981132</td>\n",
       "      <td>0.179310</td>\n",
       "      <td>0.303207</td>\n",
       "      <td>0.589530</td>\n",
       "    </tr>\n",
       "    <tr>\n",
       "      <th>41</th>\n",
       "      <td>0.71</td>\n",
       "      <td>0.943805</td>\n",
       "      <td>0.980198</td>\n",
       "      <td>0.170690</td>\n",
       "      <td>0.290749</td>\n",
       "      <td>0.585220</td>\n",
       "    </tr>\n",
       "    <tr>\n",
       "      <th>42</th>\n",
       "      <td>0.72</td>\n",
       "      <td>0.943339</td>\n",
       "      <td>0.979381</td>\n",
       "      <td>0.163793</td>\n",
       "      <td>0.280650</td>\n",
       "      <td>0.581772</td>\n",
       "    </tr>\n",
       "    <tr>\n",
       "      <th>43</th>\n",
       "      <td>0.73</td>\n",
       "      <td>0.942525</td>\n",
       "      <td>0.977778</td>\n",
       "      <td>0.151724</td>\n",
       "      <td>0.262687</td>\n",
       "      <td>0.575737</td>\n",
       "    </tr>\n",
       "    <tr>\n",
       "      <th>44</th>\n",
       "      <td>0.74</td>\n",
       "      <td>0.941710</td>\n",
       "      <td>0.975904</td>\n",
       "      <td>0.139655</td>\n",
       "      <td>0.244344</td>\n",
       "      <td>0.569703</td>\n",
       "    </tr>\n",
       "    <tr>\n",
       "      <th>45</th>\n",
       "      <td>0.75</td>\n",
       "      <td>0.941478</td>\n",
       "      <td>0.987342</td>\n",
       "      <td>0.134483</td>\n",
       "      <td>0.236722</td>\n",
       "      <td>0.567179</td>\n",
       "    </tr>\n",
       "    <tr>\n",
       "      <th>46</th>\n",
       "      <td>0.76</td>\n",
       "      <td>0.941129</td>\n",
       "      <td>0.986842</td>\n",
       "      <td>0.129310</td>\n",
       "      <td>0.228659</td>\n",
       "      <td>0.564593</td>\n",
       "    </tr>\n",
       "    <tr>\n",
       "      <th>47</th>\n",
       "      <td>0.77</td>\n",
       "      <td>0.940547</td>\n",
       "      <td>1.000000</td>\n",
       "      <td>0.118966</td>\n",
       "      <td>0.212635</td>\n",
       "      <td>0.559483</td>\n",
       "    </tr>\n",
       "    <tr>\n",
       "      <th>48</th>\n",
       "      <td>0.78</td>\n",
       "      <td>0.940198</td>\n",
       "      <td>1.000000</td>\n",
       "      <td>0.113793</td>\n",
       "      <td>0.204334</td>\n",
       "      <td>0.556897</td>\n",
       "    </tr>\n",
       "    <tr>\n",
       "      <th>49</th>\n",
       "      <td>0.79</td>\n",
       "      <td>0.939151</td>\n",
       "      <td>1.000000</td>\n",
       "      <td>0.098276</td>\n",
       "      <td>0.178964</td>\n",
       "      <td>0.549138</td>\n",
       "    </tr>\n",
       "    <tr>\n",
       "      <th>50</th>\n",
       "      <td>0.80</td>\n",
       "      <td>0.938802</td>\n",
       "      <td>1.000000</td>\n",
       "      <td>0.093103</td>\n",
       "      <td>0.170347</td>\n",
       "      <td>0.546552</td>\n",
       "    </tr>\n",
       "    <tr>\n",
       "      <th>51</th>\n",
       "      <td>0.81</td>\n",
       "      <td>0.938569</td>\n",
       "      <td>1.000000</td>\n",
       "      <td>0.089655</td>\n",
       "      <td>0.164557</td>\n",
       "      <td>0.544828</td>\n",
       "    </tr>\n",
       "    <tr>\n",
       "      <th>52</th>\n",
       "      <td>0.82</td>\n",
       "      <td>0.937987</td>\n",
       "      <td>1.000000</td>\n",
       "      <td>0.081034</td>\n",
       "      <td>0.149920</td>\n",
       "      <td>0.540517</td>\n",
       "    </tr>\n",
       "    <tr>\n",
       "      <th>53</th>\n",
       "      <td>0.83</td>\n",
       "      <td>0.937056</td>\n",
       "      <td>1.000000</td>\n",
       "      <td>0.067241</td>\n",
       "      <td>0.126010</td>\n",
       "      <td>0.533621</td>\n",
       "    </tr>\n",
       "    <tr>\n",
       "      <th>54</th>\n",
       "      <td>0.84</td>\n",
       "      <td>0.936475</td>\n",
       "      <td>1.000000</td>\n",
       "      <td>0.058621</td>\n",
       "      <td>0.110749</td>\n",
       "      <td>0.529310</td>\n",
       "    </tr>\n",
       "    <tr>\n",
       "      <th>55</th>\n",
       "      <td>0.85</td>\n",
       "      <td>0.936009</td>\n",
       "      <td>1.000000</td>\n",
       "      <td>0.051724</td>\n",
       "      <td>0.098361</td>\n",
       "      <td>0.525862</td>\n",
       "    </tr>\n",
       "    <tr>\n",
       "      <th>56</th>\n",
       "      <td>0.86</td>\n",
       "      <td>0.935660</td>\n",
       "      <td>1.000000</td>\n",
       "      <td>0.046552</td>\n",
       "      <td>0.088962</td>\n",
       "      <td>0.523276</td>\n",
       "    </tr>\n",
       "    <tr>\n",
       "      <th>57</th>\n",
       "      <td>0.87</td>\n",
       "      <td>0.934846</td>\n",
       "      <td>1.000000</td>\n",
       "      <td>0.034483</td>\n",
       "      <td>0.066667</td>\n",
       "      <td>0.517241</td>\n",
       "    </tr>\n",
       "    <tr>\n",
       "      <th>58</th>\n",
       "      <td>0.88</td>\n",
       "      <td>0.933915</td>\n",
       "      <td>1.000000</td>\n",
       "      <td>0.020690</td>\n",
       "      <td>0.040541</td>\n",
       "      <td>0.510345</td>\n",
       "    </tr>\n",
       "    <tr>\n",
       "      <th>59</th>\n",
       "      <td>0.89</td>\n",
       "      <td>0.933566</td>\n",
       "      <td>1.000000</td>\n",
       "      <td>0.015517</td>\n",
       "      <td>0.030560</td>\n",
       "      <td>0.507759</td>\n",
       "    </tr>\n",
       "  </tbody>\n",
       "</table>\n",
       "</div>"
      ],
      "text/plain": [
       "    cutoff  accuracy  precision    recall  f1_score  roc_auc_score\n",
       "0     0.30  0.950320   0.609756  0.732759  0.665623       0.849411\n",
       "1     0.31  0.951367   0.620178  0.720690  0.666667       0.844375\n",
       "2     0.32  0.952763   0.635514  0.703448  0.667758       0.837127\n",
       "3     0.33  0.953345   0.643200  0.693103  0.667220       0.832640\n",
       "4     0.34  0.954043   0.654424  0.675862  0.664970       0.825018\n",
       "5     0.35  0.955323   0.668966  0.668966  0.668966       0.822505\n",
       "6     0.36  0.955439   0.676840  0.650000  0.663149       0.813771\n",
       "7     0.37  0.955207   0.680222  0.634483  0.656557       0.806449\n",
       "8     0.38  0.955323   0.687023  0.620690  0.652174       0.800114\n",
       "9     0.39  0.956021   0.702811  0.603448  0.649351       0.792491\n",
       "10    0.40  0.956835   0.716356  0.596552  0.650988       0.789729\n",
       "11    0.41  0.957184   0.726496  0.586207  0.648855       0.785118\n",
       "12    0.42  0.957533   0.740492  0.570690  0.644596       0.778108\n",
       "13    0.43  0.958115   0.755814  0.560345  0.643564       0.773622\n",
       "14    0.44  0.958813   0.774272  0.550000  0.643145       0.769198\n",
       "15    0.45  0.958115   0.780612  0.527586  0.629630       0.758428\n",
       "16    0.46  0.958115   0.794118  0.512069  0.622642       0.751231\n",
       "17    0.47  0.957766   0.807365  0.491379  0.610932       0.741448\n",
       "18    0.48  0.958232   0.827893  0.481034  0.608506       0.736899\n",
       "19    0.49  0.958464   0.847352  0.468966  0.603774       0.731426\n",
       "20    0.50  0.958232   0.862295  0.453448  0.594350       0.724104\n",
       "21    0.51  0.958232   0.879725  0.441379  0.587830       0.718506\n",
       "22    0.52  0.957650   0.897059  0.420690  0.572770       0.708598\n",
       "23    0.53  0.957417   0.908397  0.410345  0.565321       0.703675\n",
       "24    0.54  0.956254   0.904762  0.393103  0.548077       0.695055\n",
       "25    0.55  0.955672   0.909465  0.381034  0.537060       0.689145\n",
       "26    0.56  0.955439   0.919149  0.372414  0.530061       0.685022\n",
       "27    0.57  0.954508   0.927602  0.353448  0.511860       0.675726\n",
       "28    0.58  0.953927   0.942308  0.337931  0.497462       0.668217\n",
       "29    0.59  0.952880   0.944162  0.320690  0.478764       0.659659\n",
       "30    0.60  0.952531   0.947917  0.313793  0.471503       0.656273\n",
       "31    0.61  0.951716   0.950820  0.300000  0.456094       0.649439\n",
       "32    0.62  0.951600   0.960674  0.294828  0.451187       0.646977\n",
       "33    0.63  0.951018   0.959538  0.286207  0.440903       0.642667\n",
       "34    0.64  0.949738   0.962500  0.265517  0.416216       0.632384\n",
       "35    0.65  0.948924   0.960784  0.253448  0.401091       0.626350\n",
       "36    0.66  0.947993   0.965035  0.237931  0.381743       0.618654\n",
       "37    0.67  0.947411   0.970588  0.227586  0.368715       0.613544\n",
       "38    0.68  0.946481   0.968750  0.213793  0.350282       0.606647\n",
       "39    0.69  0.944968   0.965217  0.191379  0.319424       0.595440\n",
       "40    0.70  0.944386   0.981132  0.179310  0.303207       0.589530\n",
       "41    0.71  0.943805   0.980198  0.170690  0.290749       0.585220\n",
       "42    0.72  0.943339   0.979381  0.163793  0.280650       0.581772\n",
       "43    0.73  0.942525   0.977778  0.151724  0.262687       0.575737\n",
       "44    0.74  0.941710   0.975904  0.139655  0.244344       0.569703\n",
       "45    0.75  0.941478   0.987342  0.134483  0.236722       0.567179\n",
       "46    0.76  0.941129   0.986842  0.129310  0.228659       0.564593\n",
       "47    0.77  0.940547   1.000000  0.118966  0.212635       0.559483\n",
       "48    0.78  0.940198   1.000000  0.113793  0.204334       0.556897\n",
       "49    0.79  0.939151   1.000000  0.098276  0.178964       0.549138\n",
       "50    0.80  0.938802   1.000000  0.093103  0.170347       0.546552\n",
       "51    0.81  0.938569   1.000000  0.089655  0.164557       0.544828\n",
       "52    0.82  0.937987   1.000000  0.081034  0.149920       0.540517\n",
       "53    0.83  0.937056   1.000000  0.067241  0.126010       0.533621\n",
       "54    0.84  0.936475   1.000000  0.058621  0.110749       0.529310\n",
       "55    0.85  0.936009   1.000000  0.051724  0.098361       0.525862\n",
       "56    0.86  0.935660   1.000000  0.046552  0.088962       0.523276\n",
       "57    0.87  0.934846   1.000000  0.034483  0.066667       0.517241\n",
       "58    0.88  0.933915   1.000000  0.020690  0.040541       0.510345\n",
       "59    0.89  0.933566   1.000000  0.015517  0.030560       0.507759"
      ]
     },
     "execution_count": 79,
     "metadata": {},
     "output_type": "execute_result"
    }
   ],
   "source": [
    "result = pd.DataFrame(data)\n",
    "result.columns = ['cutoff','accuracy', 'precision','recall', 'f1_score', 'roc_auc_score']\n",
    "result # 0.35 "
   ]
  },
  {
   "cell_type": "code",
   "execution_count": 77,
   "metadata": {},
   "outputs": [
    {
     "name": "stdout",
     "output_type": "stream",
     "text": [
      "______________0______________\n",
      "accuracy_score : 0.9601\n",
      "f1_score : 0.6607\n",
      "precision_score : 0.7749\n",
      "recall_score : 0.5759\n",
      "_______________________________\n",
      "______________1______________\n",
      "accuracy_score : 0.9597\n",
      "f1_score : 0.6601\n",
      "precision_score : 0.7671\n",
      "recall_score : 0.5793\n",
      "_______________________________\n",
      "______________2______________\n",
      "accuracy_score : 0.9596\n",
      "f1_score : 0.6477\n",
      "precision_score : 0.7877\n",
      "recall_score : 0.5500\n",
      "_______________________________\n",
      "______________3______________\n",
      "accuracy_score : 0.9615\n",
      "f1_score : 0.6706\n",
      "precision_score : 0.7929\n",
      "recall_score : 0.5810\n",
      "_______________________________\n",
      "______________4______________\n",
      "accuracy_score : 0.9581\n",
      "f1_score : 0.6296\n",
      "precision_score : 0.7806\n",
      "recall_score : 0.5276\n",
      "_______________________________\n"
     ]
    }
   ],
   "source": [
    "for idx, (train_index, test_index) in enumerate(skf.split(X, y)):\n",
    "    X_train, X_test = X[train_index], X[test_index]\n",
    "    y_train, y_test = y[train_index], y[test_index]\n",
    "    \n",
    "    rf.fit(X_train, y_train)\n",
    "    y_prob = rf.predict_proba(X_test)\n",
    "    y_pred = (y_prob[:,1] >= 0.45).astype(\"int\")\n",
    "    print(f\"______________{idx}______________\") \n",
    "    print(f\"accuracy_score : {accuracy_score(y_test, y_pred):0.4f}\")\n",
    "    print(f\"f1_score : {f1_score(y_test, y_pred):0.4f}\")\n",
    "    print(f\"precision_score : {precision_score(y_test, y_pred):0.4f}\")\n",
    "    print(f\"recall_score : {recall_score(y_test, y_pred):0.4f}\")\n",
    "    print(f\"_______________________________\") "
   ]
  },
  {
   "cell_type": "code",
   "execution_count": 62,
   "metadata": {},
   "outputs": [
    {
     "data": {
      "text/plain": [
       "<matplotlib.axes._subplots.AxesSubplot at 0x1af91bd5c50>"
      ]
     },
     "execution_count": 62,
     "metadata": {},
     "output_type": "execute_result"
    },
    {
     "data": {
      "image/png": "[encoded data removed]",
      "text/plain": [
       "<Figure size 432x288 with 2 Axes>"
      ]
     },
     "metadata": {
      "needs_background": "light"
     },
     "output_type": "display_data"
    }
   ],
   "source": [
    "from sklearn.metrics import confusion_matrix\n",
    "cm = confusion_matrix(y_test, y_pred)\n",
    "cm_matrix = pd.DataFrame(data=cm, columns=['Actual Positive:1', 'Actual Negative:0'], \n",
    "                                 index=['Predict Positive:1', 'Predict Negative:0'])\n",
    "sns.heatmap(cm_matrix, annot=True, fmt='d', cmap='YlGnBu')"
   ]
  },
  {
   "cell_type": "markdown",
   "metadata": {},
   "source": [
    "# Feature importance"
   ]
  },
  {
   "cell_type": "code",
   "execution_count": 54,
   "metadata": {},
   "outputs": [
    {
     "data": {
      "text/plain": [
       "array([0.01086783, 0.00847556, 0.01046377, 0.011688  , 0.0931823 ,\n",
       "       0.08184549, 0.01008077, 0.02552663, 0.01186322, 0.00984152,\n",
       "       0.01247473, 0.00978481, 0.00995739, 0.00924214, 0.00698327,\n",
       "       0.0069016 , 0.00708088, 0.00660063, 0.0062404 , 0.00625925,\n",
       "       0.01022127, 0.00796331, 0.00530657, 0.01289335, 0.01015066,\n",
       "       0.01263418, 0.01007421, 0.01202195, 0.11904669, 0.10029352,\n",
       "       0.0434319 , 0.03199049, 0.01338061, 0.01131462, 0.00875792,\n",
       "       0.00807541, 0.00808832, 0.00744974, 0.00885878, 0.00824995,\n",
       "       0.01415653, 0.0174096 , 0.0383835 , 0.02179583, 0.00780283,\n",
       "       0.00839635, 0.00638919, 0.00621342, 0.00502535, 0.00559373,\n",
       "       0.00483083, 0.00445906, 0.01350676, 0.01628456, 0.00879047,\n",
       "       0.01539835])"
      ]
     },
     "execution_count": 54,
     "metadata": {},
     "output_type": "execute_result"
    }
   ],
   "source": [
    "best_model.feature_importances_"
   ]
  },
  {
   "cell_type": "code",
   "execution_count": 55,
   "metadata": {},
   "outputs": [],
   "source": [
    "feature_scores = pd.Series(best_model.feature_importances_, index=reg_churn_model.drop(['reg_no','churn_yn'], axis = 1).columns).sort_values(ascending=False)"
   ]
  },
  {
   "cell_type": "code",
   "execution_count": 56,
   "metadata": {},
   "outputs": [
    {
     "data": {
      "text/plain": [
       "<matplotlib.axes._subplots.AxesSubplot at 0x1af91b66828>"
      ]
     },
     "execution_count": 56,
     "metadata": {},
     "output_type": "execute_result"
    },
    {
     "data": {
      "image/png": "[encoded data removed]",
      "text/plain": [
       "<Figure size 432x288 with 1 Axes>"
      ]
     },
     "metadata": {
      "needs_background": "light"
     },
     "output_type": "display_data"
    }
   ],
   "source": [
    "# 최근 2주간의 amt, cmt '변화' \n",
    "# 전월 대비 amt, cnt 변화\n",
    "# 그 밖에 6개월 sum cnt 중에서 차지하는 비율 등 바로 직전 기간의 가맹점 실적이 중요한 변수로 보여짐\n",
    "feature_scores[:10].plot(kind = 'bar')"
   ]
  },
  {
   "cell_type": "markdown",
   "metadata": {},
   "source": [
    "# Save Model"
   ]
  },
  {
   "cell_type": "code",
   "execution_count": null,
   "metadata": {},
   "outputs": [],
   "source": [
    "best_model = rf.fit(X)"
   ]
  },
  {
   "cell_type": "code",
   "execution_count": null,
   "metadata": {},
   "outputs": [],
   "source": [
    "joblib.dump(best_model, 'churn_model.pkl')"
   ]
  }
 ],
 "metadata": {
  "kernelspec": {
   "display_name": "Python 3",
   "language": "python",
   "name": "python3"
  },
  "language_info": {
   "codemirror_mode": {
    "name": "ipython",
    "version": 3
   },
   "file_extension": ".py",
   "mimetype": "text/x-python",
   "name": "python",
   "nbconvert_exporter": "python",
   "pygments_lexer": "ipython3",
   "version": "3.6.9"
  }
 },
 "nbformat": 4,
 "nbformat_minor": 2
}
