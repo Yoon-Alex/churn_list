{
 "cells": [
  {
   "cell_type": "code",
   "execution_count": 6,
   "metadata": {},
   "outputs": [
    {
     "data": {
      "text/html": [
       "<style>.container { width: 100% !important; }</style>"
      ],
      "text/plain": [
       "<IPython.core.display.HTML object>"
      ]
     },
     "metadata": {},
     "output_type": "display_data"
    }
   ],
   "source": [
    "from IPython.core.display import display, HTML\n",
    "display(HTML(\"<style>.container { width: 100% !important; }</style>\"))"
   ]
  },
  {
   "cell_type": "code",
   "execution_count": 7,
   "metadata": {},
   "outputs": [],
   "source": [
    "#===========================================================\n",
    "# File Name : B_DA_RETL_CHURN MODEL                           \n",
    "# Description :                                             \n",
    "# Date : 2020-11-12                                         \n",
    "# Writer : Yoon Jun Beom\n",
    "# Packages :                                                \n",
    "# Note :                           \n",
    "#==========================================================="
   ]
  },
  {
   "cell_type": "markdown",
   "metadata": {},
   "source": [
    "# Data Preprocessing"
   ]
  },
  {
   "cell_type": "code",
   "execution_count": 8,
   "metadata": {},
   "outputs": [],
   "source": [
    "# library import \n",
    "import pandas as pd\n",
    "import numpy as np\n",
    "\n",
    "import warnings\n",
    "warnings.filterwarnings('ignore')"
   ]
  },
  {
   "cell_type": "code",
   "execution_count": 9,
   "metadata": {},
   "outputs": [],
   "source": [
    "# 가맹점 별 운영정보 데이터\n",
    "base = pd.read_csv(r\".\\b_da_retl_churn_anl_md_tmp_table.csv\")\n",
    "base.drop(\"레코드 수\", axis= 1, inplace = True)\n",
    "\n",
    "base = base[['reg_no','amt_day_cnt', 'avg_amt', 'avg_cnt', 'avg_mm_amt', 'avg_mm_cnt',\n",
    "       'bf_month_diff_amt', 'bf_month_diff_cnt', 'churn_yn', 'high_lw_term',\n",
    "       'join_term', 'last_xmit_date', 'm3_sd_amt', 'm3_sd_cnt', 'm_00_app_amt',\n",
    "       'm_00_app_cnt', 'm_01_app_amt', 'm_01_app_cnt', 'm_02_app_amt',\n",
    "       'm_02_app_cnt', 'm_03_app_amt', 'm_03_app_cnt', 'm_04_app_amt',\n",
    "       'm_04_app_cnt', 'm_05_app_amt', 'm_05_app_cnt', 'max_amt_month',\n",
    "       'min_amt_month', 'min_mm_amt', 'min_mm_cnt', 'min_xmit_date',\n",
    "       'month_cnt', 'mx_mm_amt', 'mx_mm_cnt', 'mx_xmit_date', \n",
    "       'sd_amt', 'sd_mm_amt', 'sd_mm_cnt', 'sum_amt', 'sum_cnt',\n",
    "       'wk2_amt_diff', 'wk2_cnt_diff']]"
   ]
  },
  {
   "cell_type": "code",
   "execution_count": 10,
   "metadata": {},
   "outputs": [],
   "source": [
    "# 가맹점코드 매핑, 분류 조정\n",
    "map_code_info = pd.read_csv(r\".\\b_svr_map_code_info.csv\")\n",
    "map_code_info.drop(['레코드 수', 'load_dtm'], axis = 1, inplace = True)\n",
    "\n",
    "li = [ \n",
    "[\"부페\", \"중식\", \"퓨전/기타음식점\", \"한식-일반음식점\", \"양식\", \"일식/수산물\", \"분식/휴게음식점\", \"패스트푸드/제과점\"]\t, \"음식점\" ,\n",
    "[\"실내스포츠시설운영업\", \"실외스포츠시설운영업\", \"스포츠시설운영업\"]\t, \"스포츠시설운영업\",\n",
    "[\"예체능계학원\", \"외국어학원\", \"일반교과학원\", \"기타학원\", \"학습지/코칭교육\"]\t, \"학원\",\n",
    "[\"자동차및부품판매점\", \"자동차정비/세차/주차장\"]\t, \"자동차관련판매점\",\n",
    "[\"유흥주점-무도/가무\", \"일반유흥주점\"]\t, \"주점\",\n",
    "[\"독서실/도서관\"]\t, \"기타시설운영업\",\n",
    "[\"세탁/가사/전문서비스\", \"주택수리서비스\", \"용품수리서비스\"]\t, \"대행/용역/인력알선\",\n",
    "[\"약국/한약방\", \"유사의료업\", \"의료관련서비스업\"]\t, \"병원\",\n",
    "[\"예식/의례/관혼상제\"]\t, \"수의업\"\n",
    "]    \n",
    "a = []  \n",
    "b = []\n",
    "\n",
    "for i in li:\n",
    "    if type(i) == list :\n",
    "        a.append(i)\n",
    "    else :\n",
    "        b.append(i)\n",
    "        \n",
    "for i, j in zip(a, b):\n",
    "    map_code_info['cd_lv2_nm'].replace(i, j, inplace= True)        "
   ]
  },
  {
   "cell_type": "code",
   "execution_count": 11,
   "metadata": {},
   "outputs": [],
   "source": [
    "# 가맹점 정보 매핑\n",
    "debit_retl = pd.read_csv(r\".\\debit_retl.csv\", dtype='str')\n",
    "debit_retl = debit_retl[['reg_no','h_code','dbr_new_svr_code']]\n",
    "map_code_info = map_code_info[['map_cd','map_gubun','cd_lv2_nm']]\n",
    "debit_retl = debit_retl.merge(map_code_info.query(\"map_gubun == 'V'\"), 'left', left_on= 'dbr_new_svr_code', right_on = 'map_cd')"
   ]
  },
  {
   "cell_type": "code",
   "execution_count": 12,
   "metadata": {},
   "outputs": [],
   "source": [
    "month_tot = base.copy()"
   ]
  },
  {
   "cell_type": "code",
   "execution_count": 13,
   "metadata": {},
   "outputs": [],
   "source": [
    "month_tot['reg_no'] = month_tot.reg_no.astype(\"str\")"
   ]
  },
  {
   "cell_type": "code",
   "execution_count": 14,
   "metadata": {},
   "outputs": [],
   "source": [
    "# Feature engineering (비중)\n",
    "for i in range(6):\n",
    "    month_tot[f'm{str(i+1)}_cnt_rto'] = month_tot[f'm_{str(i).zfill(2)}_app_cnt'] / month_tot['sum_cnt'] \n",
    "    month_tot[f'm{str(i+1)}_amt_rto'] = month_tot[f'm_{str(i).zfill(2)}_app_amt'] / month_tot['sum_amt'] \n",
    "\n",
    "# MoM (전월 대비 증감율)\n",
    "for i in range(5):        \n",
    "    month_tot[f'm{str(i).zfill(2)}_cnt_updn_rto'] = (month_tot[f'm_{str(i).zfill(2)}_app_cnt'] / month_tot[f'm_{str(i+1).zfill(2)}_app_cnt']) -1 \n",
    "    month_tot[f'm{str(i).zfill(2)}_amt_updn_rto'] = (month_tot[f'm_{str(i).zfill(2)}_app_amt'] / month_tot[f'm_{str(i+1).zfill(2)}_app_amt']) -1 "
   ]
  },
  {
   "cell_type": "code",
   "execution_count": 15,
   "metadata": {},
   "outputs": [],
   "source": [
    "month_tot.replace([np.inf, -np.inf], np.nan, inplace = True)"
   ]
  },
  {
   "cell_type": "code",
   "execution_count": 16,
   "metadata": {},
   "outputs": [],
   "source": [
    "for col in month_tot.columns : # [month_tot.columns.str.contains(r\"(_rto)\")]\n",
    "    if month_tot[col].dtype == 'object': \n",
    "        pass \n",
    "    month_tot.fillna({col:0}, inplace = True)\n",
    "\n",
    "month_tot['avg_cnt_updn_rto'] = month_tot[month_tot.columns[month_tot.columns.str.contains(r\"(_cnt_updn_rto)\")]].mean(1)\n",
    "month_tot['avg_amt_updn_rto'] = month_tot[month_tot.columns[month_tot.columns.str.contains(r\"(_amt_updn_rto)\")]].mean(1)\n",
    "\n",
    "base_tot = month_tot.merge(debit_retl[['reg_no','cd_lv2_nm']], 'left', on = 'reg_no')\n",
    "\n",
    "base_tot = base_tot[base_tot.cd_lv2_nm.notna()]"
   ]
  },
  {
   "cell_type": "code",
   "execution_count": 17,
   "metadata": {},
   "outputs": [],
   "source": [
    "# 운영했던 일자 수\n",
    "base_tot['norm_wrk_day'] = \\\n",
    "pd.to_datetime(base_tot.mx_xmit_date, format = \"%Y%m%d\") - pd.to_datetime(base_tot.min_xmit_date, format = \"%Y%m%d\") + np.timedelta64(1, 'D')\n",
    "base_tot['norm_wrk_day'] = base_tot.norm_wrk_day / np.timedelta64(1, 'D')"
   ]
  },
  {
   "cell_type": "code",
   "execution_count": 18,
   "metadata": {},
   "outputs": [],
   "source": [
    "# 매출일 수 / 운영일 수\n",
    "base_tot['amt_day_rto'] = base_tot.amt_day_cnt / base_tot.norm_wrk_day"
   ]
  },
  {
   "cell_type": "code",
   "execution_count": 19,
   "metadata": {},
   "outputs": [],
   "source": [
    "reg_churn_model = base_tot.drop([\"mx_xmit_date\", \"last_xmit_date\",\"min_xmit_date\", \"norm_wrk_day\", \"amt_day_cnt\",\n",
    "                      \"min_mm_amt\", \"mx_mm_amt\", \"max_amt_month\", \"min_amt_month\", \"mx_mm_cnt\", \"min_mm_cnt\"], axis = 1)"
   ]
  },
  {
   "cell_type": "markdown",
   "metadata": {},
   "source": [
    "# Build Model"
   ]
  },
  {
   "cell_type": "code",
   "execution_count": 20,
   "metadata": {},
   "outputs": [],
   "source": [
    "from sklearn.ensemble import RandomForestClassifier\n",
    "from sklearn.model_selection import train_test_split\n",
    "from sklearn.metrics import accuracy_score\n",
    "import seaborn as sns"
   ]
  },
  {
   "cell_type": "code",
   "execution_count": 21,
   "metadata": {},
   "outputs": [],
   "source": [
    "reg_churn_model['churn_yn'] = reg_churn_model.churn_yn.factorize()[0]\n",
    "reg_churn_model['cd_lv2_nm'] = reg_churn_model.cd_lv2_nm.factorize()[0]\n",
    "\n",
    "y = reg_churn_model['churn_yn'].values\n",
    "X = reg_churn_model.drop(['reg_no','churn_yn'], axis = 1).values\n",
    "\n",
    "X_train, X_test, y_train, y_test = train_test_split(X, y, test_size = 0.3, random_state = 1)"
   ]
  },
  {
   "cell_type": "code",
   "execution_count": 22,
   "metadata": {},
   "outputs": [],
   "source": [
    "rf = RandomForestClassifier(n_estimators=50, random_state=1)"
   ]
  },
  {
   "cell_type": "code",
   "execution_count": 23,
   "metadata": {},
   "outputs": [],
   "source": [
    "rf.fit(X_train, y_train)\n",
    "y_pred = rf.predict(X_test)"
   ]
  },
  {
   "cell_type": "code",
   "execution_count": 24,
   "metadata": {},
   "outputs": [
    {
     "name": "stdout",
     "output_type": "stream",
     "text": [
      "Model accuracy score with 10 decision-trees : 0.9572\n"
     ]
    }
   ],
   "source": [
    "print('Model accuracy score with 10 decision-trees : {0:0.4f}'.format(accuracy_score(y_test, y_pred.round())))"
   ]
  },
  {
   "cell_type": "code",
   "execution_count": 25,
   "metadata": {},
   "outputs": [
    {
     "data": {
      "text/plain": [
       "<matplotlib.axes._subplots.AxesSubplot at 0x21ca4716dd8>"
      ]
     },
     "execution_count": 25,
     "metadata": {},
     "output_type": "execute_result"
    },
    {
     "data": {
      "image/png": "[encoded data removed]",
      "text/plain": [
       "<Figure size 432x288 with 2 Axes>"
      ]
     },
     "metadata": {
      "needs_background": "light"
     },
     "output_type": "display_data"
    }
   ],
   "source": [
    "from sklearn.metrics import confusion_matrix\n",
    "cm = confusion_matrix(y_test, y_pred.round())\n",
    "cm_matrix = pd.DataFrame(data=cm, columns=['Actual Positive:1', 'Actual Negative:0'], \n",
    "                                 index=['Predict Positive:1', 'Predict Negative:0'])\n",
    "sns.heatmap(cm_matrix, annot=True, fmt='d', cmap='YlGnBu')"
   ]
  },
  {
   "cell_type": "markdown",
   "metadata": {},
   "source": [
    "# Select Cutoff (0.35)"
   ]
  },
  {
   "cell_type": "code",
   "execution_count": 28,
   "metadata": {},
   "outputs": [],
   "source": [
    "from sklearn.metrics import f1_score, roc_auc_score, recall_score, precision_score"
   ]
  },
  {
   "cell_type": "code",
   "execution_count": 29,
   "metadata": {},
   "outputs": [
    {
     "name": "stdout",
     "output_type": "stream",
     "text": [
      "0    80149\n",
      "1     5798\n",
      "Name: churn_yn, dtype: int64\n",
      "0    0.93254\n",
      "1    0.06746\n",
      "Name: churn_yn, dtype: float64\n"
     ]
    }
   ],
   "source": [
    "# 이탈 가맹점: 약 6.7%\n",
    "print(reg_churn_model.churn_yn.value_counts())\n",
    "print(reg_churn_model.churn_yn.value_counts() / reg_churn_model.churn_yn.value_counts().sum())"
   ]
  },
  {
   "cell_type": "code",
   "execution_count": 30,
   "metadata": {},
   "outputs": [],
   "source": [
    "# find cut off\n",
    "y_prob = rf.predict_proba(X_test)\n",
    "i = 0.3\n",
    "data = []\n",
    "while True : \n",
    "    if i > 0.9 :\n",
    "        break\n",
    "    y_pred = (y_prob[:,1] >= i).astype(\"int\")\n",
    "    data.append([i,accuracy_score(y_test, y_pred), precision_score(y_test, y_pred), recall_score(y_test, y_pred),f1_score(y_test, y_pred), roc_auc_score(y_test, y_pred)])\n",
    "    i = i + 0.05"
   ]
  },
  {
   "cell_type": "code",
   "execution_count": 31,
   "metadata": {},
   "outputs": [
    {
     "data": {
      "text/html": [
       "<div>\n",
       "<style scoped>\n",
       "    .dataframe tbody tr th:only-of-type {\n",
       "        vertical-align: middle;\n",
       "    }\n",
       "\n",
       "    .dataframe tbody tr th {\n",
       "        vertical-align: top;\n",
       "    }\n",
       "\n",
       "    .dataframe thead th {\n",
       "        text-align: right;\n",
       "    }\n",
       "</style>\n",
       "<table border=\"1\" class=\"dataframe\">\n",
       "  <thead>\n",
       "    <tr style=\"text-align: right;\">\n",
       "      <th></th>\n",
       "      <th>cutoff</th>\n",
       "      <th>accuracy</th>\n",
       "      <th>precision</th>\n",
       "      <th>recall</th>\n",
       "      <th>f1_score</th>\n",
       "      <th>roc_auc_score</th>\n",
       "    </tr>\n",
       "  </thead>\n",
       "  <tbody>\n",
       "    <tr>\n",
       "      <th>0</th>\n",
       "      <td>0.30</td>\n",
       "      <td>0.946791</td>\n",
       "      <td>0.591846</td>\n",
       "      <td>0.753769</td>\n",
       "      <td>0.663065</td>\n",
       "      <td>0.857484</td>\n",
       "    </tr>\n",
       "    <tr>\n",
       "      <th>1</th>\n",
       "      <td>0.35</td>\n",
       "      <td>0.953733</td>\n",
       "      <td>0.663032</td>\n",
       "      <td>0.678950</td>\n",
       "      <td>0.670897</td>\n",
       "      <td>0.826597</td>\n",
       "    </tr>\n",
       "    <tr>\n",
       "      <th>2</th>\n",
       "      <td>0.40</td>\n",
       "      <td>0.956603</td>\n",
       "      <td>0.707152</td>\n",
       "      <td>0.640424</td>\n",
       "      <td>0.672136</td>\n",
       "      <td>0.810314</td>\n",
       "    </tr>\n",
       "    <tr>\n",
       "      <th>3</th>\n",
       "      <td>0.45</td>\n",
       "      <td>0.959124</td>\n",
       "      <td>0.784556</td>\n",
       "      <td>0.567281</td>\n",
       "      <td>0.658458</td>\n",
       "      <td>0.777826</td>\n",
       "    </tr>\n",
       "    <tr>\n",
       "      <th>4</th>\n",
       "      <td>0.50</td>\n",
       "      <td>0.957533</td>\n",
       "      <td>0.812950</td>\n",
       "      <td>0.504746</td>\n",
       "      <td>0.622804</td>\n",
       "      <td>0.748039</td>\n",
       "    </tr>\n",
       "    <tr>\n",
       "      <th>5</th>\n",
       "      <td>0.55</td>\n",
       "      <td>0.955362</td>\n",
       "      <td>0.871230</td>\n",
       "      <td>0.419319</td>\n",
       "      <td>0.566152</td>\n",
       "      <td>0.707346</td>\n",
       "    </tr>\n",
       "    <tr>\n",
       "      <th>6</th>\n",
       "      <td>0.60</td>\n",
       "      <td>0.953539</td>\n",
       "      <td>0.907840</td>\n",
       "      <td>0.368509</td>\n",
       "      <td>0.524226</td>\n",
       "      <td>0.682858</td>\n",
       "    </tr>\n",
       "    <tr>\n",
       "      <th>7</th>\n",
       "      <td>0.65</td>\n",
       "      <td>0.949506</td>\n",
       "      <td>0.937388</td>\n",
       "      <td>0.292574</td>\n",
       "      <td>0.445957</td>\n",
       "      <td>0.645558</td>\n",
       "    </tr>\n",
       "    <tr>\n",
       "      <th>8</th>\n",
       "      <td>0.70</td>\n",
       "      <td>0.946131</td>\n",
       "      <td>0.967442</td>\n",
       "      <td>0.232272</td>\n",
       "      <td>0.374606</td>\n",
       "      <td>0.615844</td>\n",
       "    </tr>\n",
       "    <tr>\n",
       "      <th>9</th>\n",
       "      <td>0.75</td>\n",
       "      <td>0.942913</td>\n",
       "      <td>0.978979</td>\n",
       "      <td>0.182021</td>\n",
       "      <td>0.306968</td>\n",
       "      <td>0.590865</td>\n",
       "    </tr>\n",
       "    <tr>\n",
       "      <th>10</th>\n",
       "      <td>0.80</td>\n",
       "      <td>0.938957</td>\n",
       "      <td>0.986547</td>\n",
       "      <td>0.122836</td>\n",
       "      <td>0.218471</td>\n",
       "      <td>0.561356</td>\n",
       "    </tr>\n",
       "    <tr>\n",
       "      <th>11</th>\n",
       "      <td>0.85</td>\n",
       "      <td>0.936397</td>\n",
       "      <td>0.993464</td>\n",
       "      <td>0.084869</td>\n",
       "      <td>0.156379</td>\n",
       "      <td>0.542414</td>\n",
       "    </tr>\n",
       "  </tbody>\n",
       "</table>\n",
       "</div>"
      ],
      "text/plain": [
       "    cutoff  accuracy  precision    recall  f1_score  roc_auc_score\n",
       "0     0.30  0.946791   0.591846  0.753769  0.663065       0.857484\n",
       "1     0.35  0.953733   0.663032  0.678950  0.670897       0.826597\n",
       "2     0.40  0.956603   0.707152  0.640424  0.672136       0.810314\n",
       "3     0.45  0.959124   0.784556  0.567281  0.658458       0.777826\n",
       "4     0.50  0.957533   0.812950  0.504746  0.622804       0.748039\n",
       "5     0.55  0.955362   0.871230  0.419319  0.566152       0.707346\n",
       "6     0.60  0.953539   0.907840  0.368509  0.524226       0.682858\n",
       "7     0.65  0.949506   0.937388  0.292574  0.445957       0.645558\n",
       "8     0.70  0.946131   0.967442  0.232272  0.374606       0.615844\n",
       "9     0.75  0.942913   0.978979  0.182021  0.306968       0.590865\n",
       "10    0.80  0.938957   0.986547  0.122836  0.218471       0.561356\n",
       "11    0.85  0.936397   0.993464  0.084869  0.156379       0.542414"
      ]
     },
     "execution_count": 31,
     "metadata": {},
     "output_type": "execute_result"
    }
   ],
   "source": [
    "result = pd.DataFrame(data)\n",
    "result.columns = ['cutoff','accuracy', 'precision','recall', 'f1_score', 'roc_auc_score']\n",
    "result # 0.35 "
   ]
  },
  {
   "cell_type": "markdown",
   "metadata": {},
   "source": [
    "# K-fold test (k = 3)\n",
    "##### stratified k-fold cross-validation (shuffle)"
   ]
  },
  {
   "cell_type": "code",
   "execution_count": 32,
   "metadata": {},
   "outputs": [],
   "source": [
    "from sklearn.model_selection import StratifiedShuffleSplit"
   ]
  },
  {
   "cell_type": "code",
   "execution_count": 33,
   "metadata": {},
   "outputs": [],
   "source": [
    "skf = StratifiedShuffleSplit(n_splits=3)"
   ]
  },
  {
   "cell_type": "code",
   "execution_count": 34,
   "metadata": {},
   "outputs": [],
   "source": [
    "rf = RandomForestClassifier(n_estimators=50, random_state=1)"
   ]
  },
  {
   "cell_type": "code",
   "execution_count": 35,
   "metadata": {},
   "outputs": [
    {
     "name": "stdout",
     "output_type": "stream",
     "text": [
      "______________0______________\n",
      "accuracy_score : 0.9517\n",
      "0 f1_score : 0.6683\n",
      "0 precision_score : 0.6230\n",
      "0 recall_score : 0.7207\n",
      "_______________________________\n",
      "______________1______________\n",
      "accuracy_score : 0.9545\n",
      "1 f1_score : 0.6700\n",
      "1 precision_score : 0.6562\n",
      "1 recall_score : 0.6845\n",
      "_______________________________\n",
      "______________2______________\n",
      "accuracy_score : 0.9573\n",
      "2 f1_score : 0.6861\n",
      "2 precision_score : 0.6808\n",
      "2 recall_score : 0.6914\n",
      "_______________________________\n"
     ]
    }
   ],
   "source": [
    "for idx, (train_index, test_index) in enumerate(skf.split(X, y)):\n",
    "    X_train, X_test = X[train_index], X[test_index]\n",
    "    y_train, y_test = y[train_index], y[test_index]\n",
    "    \n",
    "    rf.fit(X_train, y_train)\n",
    "    y_prob = rf.predict_proba(X_test)\n",
    "    y_pred = (y_prob[:,1] >= 0.35).astype(\"int\")\n",
    "    print(f\"______________{idx}______________\") \n",
    "    print(f\"accuracy_score : {accuracy_score(y_test, y_pred):0.4f}\")\n",
    "    print(f\"f1_score : {f1_score(y_test, y_pred):0.4f}\")\n",
    "    print(f\"precision_score : {precision_score(y_test, y_pred):0.4f}\")\n",
    "    print(f\"recall_score : {recall_score(y_test, y_pred):0.4f}\")\n",
    "    print(f\"_______________________________\") "
   ]
  },
  {
   "cell_type": "markdown",
   "metadata": {},
   "source": [
    "# Parameter Select \n",
    "#### GridSearch"
   ]
  },
  {
   "cell_type": "code",
   "execution_count": 36,
   "metadata": {},
   "outputs": [],
   "source": [
    "from sklearn.model_selection import GridSearchCV"
   ]
  },
  {
   "cell_type": "code",
   "execution_count": 37,
   "metadata": {},
   "outputs": [],
   "source": [
    "param_grid = {\n",
    "    'n_estimators': [10, 50, 100],\n",
    "}"
   ]
  },
  {
   "cell_type": "code",
   "execution_count": 38,
   "metadata": {},
   "outputs": [],
   "source": [
    "estimator = RandomForestClassifier()"
   ]
  },
  {
   "cell_type": "code",
   "execution_count": 39,
   "metadata": {},
   "outputs": [],
   "source": [
    "skf = StratifiedShuffleSplit(n_splits=3)"
   ]
  },
  {
   "cell_type": "code",
   "execution_count": 41,
   "metadata": {},
   "outputs": [
    {
     "name": "stdout",
     "output_type": "stream",
     "text": [
      "best_parameter : {'n_estimators': 100}\n"
     ]
    }
   ],
   "source": [
    "grid_search = GridSearchCV(estimator = estimator, \n",
    "                           param_grid = param_grid, \n",
    "                           cv = skf,\n",
    "                           n_jobs = -1)\n",
    "\n",
    "# fit with (x_train, y_train)\n",
    "grid_search.fit(X, y)\n",
    "print(f\"best_parameter : {grid_search.best_params_}\")"
   ]
  },
  {
   "cell_type": "markdown",
   "metadata": {},
   "source": [
    "# Feature importance"
   ]
  },
  {
   "cell_type": "code",
   "execution_count": 45,
   "metadata": {},
   "outputs": [
    {
     "data": {
      "text/plain": [
       "<matplotlib.axes._subplots.AxesSubplot at 0x21ca1e90e80>"
      ]
     },
     "execution_count": 45,
     "metadata": {},
     "output_type": "execute_result"
    },
    {
     "data": {
      "image/png": "[encoded data removed]",
      "text/plain": [
       "<Figure size 432x288 with 1 Axes>"
      ]
     },
     "metadata": {
      "needs_background": "light"
     },
     "output_type": "display_data"
    }
   ],
   "source": [
    "feature_scores = pd.Series(rf.feature_importances_, index=reg_churn_model.drop(['reg_no','churn_yn'], axis = 1).columns).sort_values(ascending=False)\n",
    "# 최근 2주간의 amt, cmt 변화, 전월 대비하여 amt, cnt 변화에 대한 변수가 주요. \n",
    "feature_scores[:10].plot('bar')"
   ]
  },
  {
   "cell_type": "markdown",
   "metadata": {},
   "source": [
    "# Save Model"
   ]
  },
  {
   "cell_type": "code",
   "execution_count": 56,
   "metadata": {},
   "outputs": [],
   "source": [
    "import joblib"
   ]
  },
  {
   "cell_type": "code",
   "execution_count": 57,
   "metadata": {},
   "outputs": [
    {
     "data": {
      "text/plain": [
       "['churn_model.pkl']"
      ]
     },
     "execution_count": 57,
     "metadata": {},
     "output_type": "execute_result"
    }
   ],
   "source": [
    "joblib.dump(rf, 'churn_model.pkl')"
   ]
  }
 ],
 "metadata": {
  "kernelspec": {
   "display_name": "Python 3",
   "language": "python",
   "name": "python3"
  },
  "language_info": {
   "codemirror_mode": {
    "name": "ipython",
    "version": 3
   },
   "file_extension": ".py",
   "mimetype": "text/x-python",
   "name": "python",
   "nbconvert_exporter": "python",
   "pygments_lexer": "ipython3",
   "version": "3.6.7"
  }
 },
 "nbformat": 4,
 "nbformat_minor": 2
}
