{
 "cells": [
  {
   "cell_type": "code",
   "execution_count": null,
   "metadata": {},
   "outputs": [],
   "source": [
    "from IPython.core.display import display, HTML\n",
    "display(HTML(\"<style>.container { width: 100% !important; }</style>\"))"
   ]
  },
  {
   "cell_type": "code",
   "execution_count": null,
   "metadata": {},
   "outputs": [],
   "source": [
    "#===========================================================\n",
    "# File Name : B_DA_RETL_CHURN MODEL                           \n",
    "# Description :                                             \n",
    "# Date : 2020-11-12                                         \n",
    "# Writer : Yoon Jun Beom\n",
    "# Packages :                                                \n",
    "# Note :                           \n",
    "#==========================================================="
   ]
  },
  {
   "cell_type": "markdown",
   "metadata": {},
   "source": [
    "# Data Preprocessing"
   ]
  },
  {
   "cell_type": "code",
   "execution_count": null,
   "metadata": {},
   "outputs": [],
   "source": [
    "# library import \n",
    "import pandas as pd\n",
    "import numpy as np\n",
    "\n",
    "import warnings\n",
    "warnings.filterwarnings('ignore')"
   ]
  },
  {
   "cell_type": "code",
   "execution_count": 4,
   "metadata": {},
   "outputs": [],
   "source": [
    "# 가맹점 별 운영정보 데이터\n",
    "base = pd.read_csv(r\".\\b_da_retl_churn_anl_md_tmp_table.csv\")\n",
    "base.drop(\"레코드 수\", axis= 1, inplace = True)\n",
    "\n",
    "base = base[['reg_no','amt_day_cnt', 'avg_amt', 'avg_cnt', 'avg_mm_amt', 'avg_mm_cnt',\n",
    "       'bf_month_diff_amt', 'bf_month_diff_cnt', 'churn_yn', 'high_lw_term',\n",
    "       'join_term', 'last_xmit_date', 'm3_sd_amt', 'm3_sd_cnt', 'm_00_app_amt',\n",
    "       'm_00_app_cnt', 'm_01_app_amt', 'm_01_app_cnt', 'm_02_app_amt',\n",
    "       'm_02_app_cnt', 'm_03_app_amt', 'm_03_app_cnt', 'm_04_app_amt',\n",
    "       'm_04_app_cnt', 'm_05_app_amt', 'm_05_app_cnt', 'max_amt_month',\n",
    "       'min_amt_month', 'min_mm_amt', 'min_mm_cnt', 'min_xmit_date',\n",
    "       'month_cnt', 'mx_mm_amt', 'mx_mm_cnt', 'mx_xmit_date', \n",
    "       'sd_amt', 'sd_mm_amt', 'sd_mm_cnt', 'sum_amt', 'sum_cnt',\n",
    "       'wk2_amt_diff', 'wk2_cnt_diff']]"
   ]
  },
  {
   "cell_type": "code",
   "execution_count": 6,
   "metadata": {},
   "outputs": [],
   "source": [
    "# 가맹점코드 매핑, 분류 조정\n",
    "map_code_info = pd.read_csv(r\".\\b_svr_map_code_info.csv\")\n",
    "map_code_info.drop(['레코드 수', 'load_dtm'], axis = 1, inplace = True)\n",
    "\n",
    "li = [ \n",
    "[\"부페\", \"중식\", \"퓨전/기타음식점\", \"한식-일반음식점\", \"양식\", \"일식/수산물\", \"분식/휴게음식점\", \"패스트푸드/제과점\"]\t, \"음식점\" ,\n",
    "[\"실내스포츠시설운영업\", \"실외스포츠시설운영업\", \"스포츠시설운영업\"]\t, \"스포츠시설운영업\",\n",
    "[\"예체능계학원\", \"외국어학원\", \"일반교과학원\", \"기타학원\", \"학습지/코칭교육\"]\t, \"학원\",\n",
    "[\"자동차및부품판매점\", \"자동차정비/세차/주차장\"]\t, \"자동차관련판매점\",\n",
    "[\"유흥주점-무도/가무\", \"일반유흥주점\"]\t, \"주점\",\n",
    "[\"독서실/도서관\"]\t, \"기타시설운영업\",\n",
    "[\"세탁/가사/전문서비스\", \"주택수리서비스\", \"용품수리서비스\"]\t, \"대행/용역/인력알선\",\n",
    "[\"약국/한약방\", \"유사의료업\", \"의료관련서비스업\"]\t, \"병원\",\n",
    "[\"예식/의례/관혼상제\"]\t, \"수의업\"\n",
    "]    \n",
    "a = []  \n",
    "b = []\n",
    "\n",
    "for i in li:\n",
    "    if type(i) == list :\n",
    "        a.append(i)\n",
    "    else :\n",
    "        b.append(i)\n",
    "        \n",
    "for i, j in zip(a, b):\n",
    "    map_code_info['cd_lv2_nm'].replace(i, j, inplace= True)        "
   ]
  },
  {
   "cell_type": "code",
   "execution_count": 7,
   "metadata": {},
   "outputs": [],
   "source": [
    "# 가맹점 정보 매핑\n",
    "real_data = pd.read_csv(r\".\\L1_10_01_이탈가맹점 매출현황_v2.csv\", dtype={'reg_no': 'str'})"
   ]
  },
  {
   "cell_type": "code",
   "execution_count": 8,
   "metadata": {},
   "outputs": [
    {
     "data": {
      "text/plain": [
       "Index(['C_전월_M', 'MM_FLAG', 'total_yearmonth', '계산1', 'C_이탈구간_위험여부',\n",
       "       'MM_FLAG(복사본)', '레코드 수', 'agency_code', 'sum_amt', '매출건수', 'churn_prob',\n",
       "       '이탈등급', 'coord_x', 'coord_y', '주소', '사업자명', 'gungu_cd', 'gungu_nm',\n",
       "       'join_term', '전화번호', '사업자번호', 'rtl_agency_name', 'sido_nm(복사본)',\n",
       "       'sido_nm', 'svr_code', 'svr_service_name(복사본)', 'svr_service_name',\n",
       "       'xmit_month'],\n",
       "      dtype='object')"
      ]
     },
     "execution_count": 8,
     "metadata": {},
     "output_type": "execute_result"
    }
   ],
   "source": [
    "real_data.columns"
   ]
  },
  {
   "cell_type": "code",
   "execution_count": 9,
   "metadata": {},
   "outputs": [
    {
     "data": {
      "text/plain": [
       "xmit_month\n",
       "202010    78984\n",
       "202011    78984\n",
       "202012    78992\n",
       "Name: 사업자번호, dtype: int64"
      ]
     },
     "execution_count": 9,
     "metadata": {},
     "output_type": "execute_result"
    }
   ],
   "source": [
    "real_data.groupby('xmit_month')['사업자번호'].nunique()"
   ]
  },
  {
   "cell_type": "code",
   "execution_count": 13,
   "metadata": {},
   "outputs": [],
   "source": [
    "# 가맹점 정보 매핑\n",
    "debit_retl = pd.read_csv(r\".\\debit_retl.csv\", dtype='str')"
   ]
  },
  {
   "cell_type": "code",
   "execution_count": 14,
   "metadata": {},
   "outputs": [],
   "source": [
    "debit_retl = debit_retl[['reg_no','h_code','dbr_new_svr_code']]\n",
    "map_code_info = map_code_info[['map_cd','map_gubun','cd_lv2_nm']]\n",
    "debit_retl = debit_retl.merge(map_code_info.query(\"map_gubun == 'V'\"), 'left', left_on= 'dbr_new_svr_code', right_on = 'map_cd')"
   ]
  },
  {
   "cell_type": "code",
   "execution_count": 15,
   "metadata": {},
   "outputs": [],
   "source": [
    "month_tot = base.copy()"
   ]
  },
  {
   "cell_type": "code",
   "execution_count": 16,
   "metadata": {},
   "outputs": [],
   "source": [
    "month_tot['reg_no'] = month_tot.reg_no.astype(\"str\")"
   ]
  },
  {
   "cell_type": "code",
   "execution_count": 17,
   "metadata": {},
   "outputs": [],
   "source": [
    "# Feature engineering (비중)\n",
    "for i in range(6):\n",
    "    month_tot[f'm{str(i+1)}_cnt_rto'] = month_tot[f'm_{str(i).zfill(2)}_app_cnt'] / month_tot['sum_cnt'] \n",
    "    month_tot[f'm{str(i+1)}_amt_rto'] = month_tot[f'm_{str(i).zfill(2)}_app_amt'] / month_tot['sum_amt'] \n",
    "\n",
    "# MoM (전월 대비 증감율)\n",
    "for i in range(5):        \n",
    "    month_tot[f'm{str(i).zfill(2)}_cnt_updn_rto'] = (month_tot[f'm_{str(i).zfill(2)}_app_cnt'] / month_tot[f'm_{str(i+1).zfill(2)}_app_cnt']) -1 \n",
    "    month_tot[f'm{str(i).zfill(2)}_amt_updn_rto'] = (month_tot[f'm_{str(i).zfill(2)}_app_amt'] / month_tot[f'm_{str(i+1).zfill(2)}_app_amt']) -1 "
   ]
  },
  {
   "cell_type": "code",
   "execution_count": 18,
   "metadata": {},
   "outputs": [],
   "source": [
    "month_tot.replace([np.inf, -np.inf], np.nan, inplace = True)"
   ]
  },
  {
   "cell_type": "code",
   "execution_count": 19,
   "metadata": {},
   "outputs": [],
   "source": [
    "for col in month_tot.columns : # [month_tot.columns.str.contains(r\"(_rto)\")]\n",
    "    if month_tot[col].dtype == 'object': \n",
    "        pass \n",
    "    month_tot.fillna({col:0}, inplace = True)\n",
    "\n",
    "month_tot['avg_cnt_updn_rto'] = month_tot[month_tot.columns[month_tot.columns.str.contains(r\"(_cnt_updn_rto)\")]].mean(1)\n",
    "month_tot['avg_amt_updn_rto'] = month_tot[month_tot.columns[month_tot.columns.str.contains(r\"(_amt_updn_rto)\")]].mean(1)\n",
    "\n",
    "base_tot = month_tot.merge(debit_retl[['reg_no','cd_lv2_nm']], 'inner', on = 'reg_no')\n",
    "\n",
    "base_tot = base_tot[base_tot.cd_lv2_nm.notna()]"
   ]
  },
  {
   "cell_type": "code",
   "execution_count": 20,
   "metadata": {},
   "outputs": [],
   "source": [
    "# 운영했던 일자 수\n",
    "base_tot['norm_wrk_day'] = \\\n",
    "pd.to_datetime(base_tot.mx_xmit_date, format = \"%Y%m%d\") - pd.to_datetime(base_tot.min_xmit_date, format = \"%Y%m%d\") + np.timedelta64(1, 'D')\n",
    "base_tot['norm_wrk_day'] = base_tot.norm_wrk_day / np.timedelta64(1, 'D')"
   ]
  },
  {
   "cell_type": "code",
   "execution_count": 21,
   "metadata": {},
   "outputs": [],
   "source": [
    "# 매출일 수 / 운영일 수\n",
    "base_tot['amt_day_rto'] = base_tot.amt_day_cnt / base_tot.norm_wrk_day"
   ]
  },
  {
   "cell_type": "code",
   "execution_count": 22,
   "metadata": {},
   "outputs": [],
   "source": [
    "reg_churn_model = base_tot.drop([\"mx_xmit_date\", \"last_xmit_date\",\"min_xmit_date\", \"norm_wrk_day\", \"amt_day_cnt\",\n",
    "                      \"min_mm_amt\", \"mx_mm_amt\", \"max_amt_month\", \"min_amt_month\", \"mx_mm_cnt\", \"min_mm_cnt\"], axis = 1)"
   ]
  },
  {
   "cell_type": "markdown",
   "metadata": {},
   "source": [
    "# Build Model"
   ]
  },
  {
   "cell_type": "code",
   "execution_count": 23,
   "metadata": {},
   "outputs": [],
   "source": [
    "from sklearn.ensemble import RandomForestClassifier\n",
    "from sklearn.model_selection import train_test_split\n",
    "from sklearn.metrics import accuracy_score\n",
    "import seaborn as sns"
   ]
  },
  {
   "cell_type": "code",
   "execution_count": 24,
   "metadata": {},
   "outputs": [],
   "source": [
    "reg_churn_model['churn_yn'] = reg_churn_model.churn_yn.factorize()[0]\n",
    "reg_churn_model['cd_lv2_nm'] = reg_churn_model.cd_lv2_nm.factorize()[0]\n",
    "\n",
    "y = reg_churn_model['churn_yn'].values\n",
    "X = reg_churn_model.drop(['reg_no','churn_yn'], axis = 1).values\n",
    "\n",
    "X_train, X_test, y_train, y_test = train_test_split(X, y, test_size = 0.3, random_state = 1)"
   ]
  },
  {
   "cell_type": "code",
   "execution_count": 30,
   "metadata": {},
   "outputs": [],
   "source": [
    "m = round(np.sqrt(len(reg_churn_model.drop(['reg_no','churn_yn'], axis = 1).columns)),0)"
   ]
  },
  {
   "cell_type": "code",
   "execution_count": 32,
   "metadata": {},
   "outputs": [],
   "source": [
    "rf = RandomForestClassifier(n_estimators=100, max_depth= int(m), random_state=1)"
   ]
  },
  {
   "cell_type": "code",
   "execution_count": 33,
   "metadata": {},
   "outputs": [],
   "source": [
    "rf.fit(X_train, y_train)\n",
    "y_pred = rf.predict(X_test)"
   ]
  },
  {
   "cell_type": "code",
   "execution_count": 34,
   "metadata": {},
   "outputs": [
    {
     "name": "stdout",
     "output_type": "stream",
     "text": [
      "Model accuracy score with 10 decision-trees : 0.9453\n"
     ]
    }
   ],
   "source": [
    "print('Model accuracy score with 10 decision-trees : {0:0.4f}'.format(accuracy_score(y_test, y_pred.round())))"
   ]
  },
  {
   "cell_type": "code",
   "execution_count": 35,
   "metadata": {},
   "outputs": [
    {
     "data": {
      "text/plain": [
       "<matplotlib.axes._subplots.AxesSubplot at 0x187482192b0>"
      ]
     },
     "execution_count": 35,
     "metadata": {},
     "output_type": "execute_result"
    },
    {
     "data": {
      "image/png": "[encoded data removed]",
      "text/plain": [
       "<Figure size 432x288 with 2 Axes>"
      ]
     },
     "metadata": {
      "needs_background": "light"
     },
     "output_type": "display_data"
    }
   ],
   "source": [
    "from sklearn.metrics import confusion_matrix\n",
    "cm = confusion_matrix(y_test, y_pred.round())\n",
    "cm_matrix = pd.DataFrame(data=cm, columns=['Actual Positive:1', 'Actual Negative:0'], \n",
    "                                 index=['Predict Positive:1', 'Predict Negative:0'])\n",
    "sns.heatmap(cm_matrix, annot=True, fmt='d', cmap='YlGnBu')"
   ]
  },
  {
   "cell_type": "markdown",
   "metadata": {},
   "source": [
    "# Select Cutoff (0.35)"
   ]
  },
  {
   "cell_type": "code",
   "execution_count": 36,
   "metadata": {},
   "outputs": [],
   "source": [
    "from sklearn.metrics import f1_score, roc_auc_score, recall_score, precision_score"
   ]
  },
  {
   "cell_type": "code",
   "execution_count": 37,
   "metadata": {},
   "outputs": [
    {
     "name": "stdout",
     "output_type": "stream",
     "text": [
      "0    80149\n",
      "1     5798\n",
      "Name: churn_yn, dtype: int64\n",
      "0    0.93254\n",
      "1    0.06746\n",
      "Name: churn_yn, dtype: float64\n"
     ]
    }
   ],
   "source": [
    "# 이탈 가맹점: 약 6.7%\n",
    "print(reg_churn_model.churn_yn.value_counts())\n",
    "print(reg_churn_model.churn_yn.value_counts() / reg_churn_model.churn_yn.value_counts().sum())"
   ]
  },
  {
   "cell_type": "code",
   "execution_count": 38,
   "metadata": {},
   "outputs": [],
   "source": [
    "# find cut off\n",
    "y_prob = rf.predict_proba(X_test)\n",
    "i = 0.3\n",
    "data = []\n",
    "while True : \n",
    "    if i > 0.9 :\n",
    "        break\n",
    "    y_pred = (y_prob[:,1] >= i).astype(\"int\")\n",
    "    data.append([i,accuracy_score(y_test, y_pred), precision_score(y_test, y_pred), recall_score(y_test, y_pred),f1_score(y_test, y_pred), roc_auc_score(y_test, y_pred)])\n",
    "    i = i + 0.05"
   ]
  },
  {
   "cell_type": "code",
   "execution_count": 39,
   "metadata": {},
   "outputs": [
    {
     "data": {
      "text/html": [
       "<div>\n",
       "<style scoped>\n",
       "    .dataframe tbody tr th:only-of-type {\n",
       "        vertical-align: middle;\n",
       "    }\n",
       "\n",
       "    .dataframe tbody tr th {\n",
       "        vertical-align: top;\n",
       "    }\n",
       "\n",
       "    .dataframe thead th {\n",
       "        text-align: right;\n",
       "    }\n",
       "</style>\n",
       "<table border=\"1\" class=\"dataframe\">\n",
       "  <thead>\n",
       "    <tr style=\"text-align: right;\">\n",
       "      <th></th>\n",
       "      <th>cutoff</th>\n",
       "      <th>accuracy</th>\n",
       "      <th>precision</th>\n",
       "      <th>recall</th>\n",
       "      <th>f1_score</th>\n",
       "      <th>roc_auc_score</th>\n",
       "    </tr>\n",
       "  </thead>\n",
       "  <tbody>\n",
       "    <tr>\n",
       "      <th>0</th>\n",
       "      <td>0.30</td>\n",
       "      <td>0.945472</td>\n",
       "      <td>0.591449</td>\n",
       "      <td>0.695142</td>\n",
       "      <td>0.639117</td>\n",
       "      <td>0.829650</td>\n",
       "    </tr>\n",
       "    <tr>\n",
       "      <th>1</th>\n",
       "      <td>0.35</td>\n",
       "      <td>0.947295</td>\n",
       "      <td>0.621076</td>\n",
       "      <td>0.618649</td>\n",
       "      <td>0.619860</td>\n",
       "      <td>0.795238</td>\n",
       "    </tr>\n",
       "    <tr>\n",
       "      <th>2</th>\n",
       "      <td>0.40</td>\n",
       "      <td>0.947683</td>\n",
       "      <td>0.655853</td>\n",
       "      <td>0.519263</td>\n",
       "      <td>0.579620</td>\n",
       "      <td>0.749462</td>\n",
       "    </tr>\n",
       "    <tr>\n",
       "      <th>3</th>\n",
       "      <td>0.45</td>\n",
       "      <td>0.948420</td>\n",
       "      <td>0.735926</td>\n",
       "      <td>0.401452</td>\n",
       "      <td>0.519509</td>\n",
       "      <td>0.695350</td>\n",
       "    </tr>\n",
       "    <tr>\n",
       "      <th>4</th>\n",
       "      <td>0.50</td>\n",
       "      <td>0.945317</td>\n",
       "      <td>0.820168</td>\n",
       "      <td>0.272473</td>\n",
       "      <td>0.409053</td>\n",
       "      <td>0.634007</td>\n",
       "    </tr>\n",
       "    <tr>\n",
       "      <th>5</th>\n",
       "      <td>0.55</td>\n",
       "      <td>0.940624</td>\n",
       "      <td>0.992424</td>\n",
       "      <td>0.146287</td>\n",
       "      <td>0.254988</td>\n",
       "      <td>0.573102</td>\n",
       "    </tr>\n",
       "    <tr>\n",
       "      <th>6</th>\n",
       "      <td>0.60</td>\n",
       "      <td>0.936358</td>\n",
       "      <td>1.000000</td>\n",
       "      <td>0.083752</td>\n",
       "      <td>0.154560</td>\n",
       "      <td>0.541876</td>\n",
       "    </tr>\n",
       "    <tr>\n",
       "      <th>7</th>\n",
       "      <td>0.65</td>\n",
       "      <td>0.931588</td>\n",
       "      <td>1.000000</td>\n",
       "      <td>0.015075</td>\n",
       "      <td>0.029703</td>\n",
       "      <td>0.507538</td>\n",
       "    </tr>\n",
       "    <tr>\n",
       "      <th>8</th>\n",
       "      <td>0.70</td>\n",
       "      <td>0.930541</td>\n",
       "      <td>0.000000</td>\n",
       "      <td>0.000000</td>\n",
       "      <td>0.000000</td>\n",
       "      <td>0.500000</td>\n",
       "    </tr>\n",
       "    <tr>\n",
       "      <th>9</th>\n",
       "      <td>0.75</td>\n",
       "      <td>0.930541</td>\n",
       "      <td>0.000000</td>\n",
       "      <td>0.000000</td>\n",
       "      <td>0.000000</td>\n",
       "      <td>0.500000</td>\n",
       "    </tr>\n",
       "    <tr>\n",
       "      <th>10</th>\n",
       "      <td>0.80</td>\n",
       "      <td>0.930541</td>\n",
       "      <td>0.000000</td>\n",
       "      <td>0.000000</td>\n",
       "      <td>0.000000</td>\n",
       "      <td>0.500000</td>\n",
       "    </tr>\n",
       "    <tr>\n",
       "      <th>11</th>\n",
       "      <td>0.85</td>\n",
       "      <td>0.930541</td>\n",
       "      <td>0.000000</td>\n",
       "      <td>0.000000</td>\n",
       "      <td>0.000000</td>\n",
       "      <td>0.500000</td>\n",
       "    </tr>\n",
       "  </tbody>\n",
       "</table>\n",
       "</div>"
      ],
      "text/plain": [
       "    cutoff  accuracy  precision    recall  f1_score  roc_auc_score\n",
       "0     0.30  0.945472   0.591449  0.695142  0.639117       0.829650\n",
       "1     0.35  0.947295   0.621076  0.618649  0.619860       0.795238\n",
       "2     0.40  0.947683   0.655853  0.519263  0.579620       0.749462\n",
       "3     0.45  0.948420   0.735926  0.401452  0.519509       0.695350\n",
       "4     0.50  0.945317   0.820168  0.272473  0.409053       0.634007\n",
       "5     0.55  0.940624   0.992424  0.146287  0.254988       0.573102\n",
       "6     0.60  0.936358   1.000000  0.083752  0.154560       0.541876\n",
       "7     0.65  0.931588   1.000000  0.015075  0.029703       0.507538\n",
       "8     0.70  0.930541   0.000000  0.000000  0.000000       0.500000\n",
       "9     0.75  0.930541   0.000000  0.000000  0.000000       0.500000\n",
       "10    0.80  0.930541   0.000000  0.000000  0.000000       0.500000\n",
       "11    0.85  0.930541   0.000000  0.000000  0.000000       0.500000"
      ]
     },
     "execution_count": 39,
     "metadata": {},
     "output_type": "execute_result"
    }
   ],
   "source": [
    "result = pd.DataFrame(data)\n",
    "result.columns = ['cutoff','accuracy', 'precision','recall', 'f1_score', 'roc_auc_score']\n",
    "result # 0.35 "
   ]
  },
  {
   "cell_type": "markdown",
   "metadata": {},
   "source": [
    "# K-fold test (k = 3)\n",
    "##### stratified k-fold cross-validation (shuffle)"
   ]
  },
  {
   "cell_type": "code",
   "execution_count": 40,
   "metadata": {},
   "outputs": [],
   "source": [
    "from sklearn.model_selection import StratifiedShuffleSplit"
   ]
  },
  {
   "cell_type": "code",
   "execution_count": 41,
   "metadata": {},
   "outputs": [],
   "source": [
    "skf = StratifiedShuffleSplit(n_splits=3)"
   ]
  },
  {
   "cell_type": "code",
   "execution_count": 42,
   "metadata": {},
   "outputs": [],
   "source": [
    "rf = RandomForestClassifier(n_estimators=50, random_state=1)"
   ]
  },
  {
   "cell_type": "code",
   "execution_count": 43,
   "metadata": {},
   "outputs": [
    {
     "name": "stdout",
     "output_type": "stream",
     "text": [
      "______________0______________\n",
      "accuracy_score : 0.9558\n",
      "f1_score : 0.6812\n",
      "precision_score : 0.6634\n",
      "recall_score : 0.7000\n",
      "_______________________________\n",
      "______________1______________\n",
      "accuracy_score : 0.9510\n",
      "f1_score : 0.6489\n",
      "precision_score : 0.6284\n",
      "recall_score : 0.6707\n",
      "_______________________________\n",
      "______________2______________\n",
      "accuracy_score : 0.9560\n",
      "f1_score : 0.6813\n",
      "precision_score : 0.6667\n",
      "recall_score : 0.6966\n",
      "_______________________________\n"
     ]
    }
   ],
   "source": [
    "for idx, (train_index, test_index) in enumerate(skf.split(X, y)):\n",
    "    X_train, X_test = X[train_index], X[test_index]\n",
    "    y_train, y_test = y[train_index], y[test_index]\n",
    "    \n",
    "    rf.fit(X_train, y_train)\n",
    "    y_prob = rf.predict_proba(X_test)\n",
    "    y_pred = (y_prob[:,1] >= 0.35).astype(\"int\")\n",
    "    print(f\"______________{idx}______________\") \n",
    "    print(f\"accuracy_score : {accuracy_score(y_test, y_pred):0.4f}\")\n",
    "    print(f\"f1_score : {f1_score(y_test, y_pred):0.4f}\")\n",
    "    print(f\"precision_score : {precision_score(y_test, y_pred):0.4f}\")\n",
    "    print(f\"recall_score : {recall_score(y_test, y_pred):0.4f}\")\n",
    "    print(f\"_______________________________\") "
   ]
  },
  {
   "cell_type": "markdown",
   "metadata": {},
   "source": [
    "# Parameter Select \n",
    "#### GridSearch"
   ]
  },
  {
   "cell_type": "code",
   "execution_count": 44,
   "metadata": {},
   "outputs": [],
   "source": [
    "from sklearn.model_selection import GridSearchCV"
   ]
  },
  {
   "cell_type": "code",
   "execution_count": 50,
   "metadata": {},
   "outputs": [],
   "source": [
    "param_grid = {\n",
    "    'max_depth': [5,6,7,8,9,10,14,16,18], # sqrt(d), log2(d)\n",
    "    'n_estimators': [10, 50, 100],\n",
    "}"
   ]
  },
  {
   "cell_type": "code",
   "execution_count": 51,
   "metadata": {},
   "outputs": [],
   "source": [
    "estimator = RandomForestClassifier()"
   ]
  },
  {
   "cell_type": "code",
   "execution_count": 52,
   "metadata": {},
   "outputs": [],
   "source": [
    "skf = StratifiedShuffleSplit(n_splits=3)"
   ]
  },
  {
   "cell_type": "code",
   "execution_count": 53,
   "metadata": {},
   "outputs": [
    {
     "name": "stdout",
     "output_type": "stream",
     "text": [
      "best_parameter : {'max_depth': 16, 'n_estimators': 100}\n"
     ]
    }
   ],
   "source": [
    "grid_search = GridSearchCV(estimator = estimator, \n",
    "                           param_grid = param_grid, \n",
    "                           cv = skf,\n",
    "                           n_jobs = -1)\n",
    "\n",
    "# fit with (x_train, y_train)\n",
    "grid_search.fit(X, y)\n",
    "print(f\"best_parameter : {grid_search.best_params_}\")"
   ]
  },
  {
   "cell_type": "markdown",
   "metadata": {},
   "source": [
    "# Feature importance"
   ]
  },
  {
   "cell_type": "code",
   "execution_count": 54,
   "metadata": {},
   "outputs": [],
   "source": [
    "best_model = grid_search.best_estimator_"
   ]
  },
  {
   "cell_type": "code",
   "execution_count": 57,
   "metadata": {},
   "outputs": [
    {
     "data": {
      "text/plain": [
       "array([0.01247622, 0.00930181, 0.01114551, 0.01206134, 0.07034498,\n",
       "       0.07998167, 0.01142179, 0.02692958, 0.01299106, 0.01117954,\n",
       "       0.01566059, 0.0101672 , 0.01102466, 0.00983729, 0.00812659,\n",
       "       0.00800329, 0.00675054, 0.00644339, 0.00801827, 0.00634291,\n",
       "       0.00796391, 0.00947352, 0.00640098, 0.01370988, 0.01151572,\n",
       "       0.01322793, 0.01110888, 0.01203984, 0.12247477, 0.09109185,\n",
       "       0.04105571, 0.02955873, 0.01368709, 0.01329073, 0.00952371,\n",
       "       0.00885521, 0.00910248, 0.00740178, 0.00986239, 0.00824688,\n",
       "       0.01329592, 0.01389469, 0.03627301, 0.02566299, 0.00903059,\n",
       "       0.00956022, 0.00711473, 0.0071978 , 0.00584035, 0.00582834,\n",
       "       0.00513814, 0.00517842, 0.01769046, 0.01382717, 0.00987616,\n",
       "       0.01679076])"
      ]
     },
     "execution_count": 57,
     "metadata": {},
     "output_type": "execute_result"
    }
   ],
   "source": [
    "best_model.feature_importances_"
   ]
  },
  {
   "cell_type": "code",
   "execution_count": null,
   "metadata": {},
   "outputs": [],
   "source": [
    "feature_scores = pd.Series(best_model.feature_importances_, index=reg_churn_model.drop(['reg_no','churn_yn'], axis = 1).columns).sort_values(ascending=False)"
   ]
  },
  {
   "cell_type": "code",
   "execution_count": 62,
   "metadata": {},
   "outputs": [
    {
     "data": {
      "text/plain": [
       "<matplotlib.axes._subplots.AxesSubplot at 0x1874e58ceb8>"
      ]
     },
     "execution_count": 62,
     "metadata": {},
     "output_type": "execute_result"
    },
    {
     "data": {
      "image/png": "[encoded data removed]",
      "text/plain": [
       "<Figure size 432x288 with 1 Axes>"
      ]
     },
     "metadata": {
      "needs_background": "light"
     },
     "output_type": "display_data"
    }
   ],
   "source": [
    "# 최근 2주간의 amt, cmt '변화' \n",
    "# 전월 대비 amt, cnt 변화\n",
    "# 그 밖에 6개월 sum cnt 중에서 차지하는 비율 등 바로 직전 기간의 가맹점 실적이 중요한 변수로 보여짐\n",
    "feature_scores[:10].plot(kind = 'bar')"
   ]
  },
  {
   "cell_type": "code",
   "execution_count": 66,
   "metadata": {},
   "outputs": [
    {
     "name": "stdout",
     "output_type": "stream",
     "text": [
      "______________0______________\n",
      "accuracy_score : 0.9546\n",
      "f1_score : 0.6761\n",
      "precision_score : 0.6522\n",
      "recall_score : 0.7017\n",
      "_______________________________\n",
      "______________1______________\n",
      "accuracy_score : 0.9554\n",
      "f1_score : 0.6729\n",
      "precision_score : 0.6667\n",
      "recall_score : 0.6793\n",
      "_______________________________\n",
      "______________2______________\n",
      "accuracy_score : 0.9547\n",
      "f1_score : 0.6809\n",
      "precision_score : 0.6495\n",
      "recall_score : 0.7155\n",
      "_______________________________\n"
     ]
    }
   ],
   "source": [
    "for idx, (train_index, test_index) in enumerate(skf.split(X, y)):\n",
    "    X_train, X_test = X[train_index], X[test_index]\n",
    "    y_train, y_test = y[train_index], y[test_index]\n",
    "    \n",
    "    best_model.fit(X_train, y_train)\n",
    "    y_prob = best_model.predict_proba(X_test)\n",
    "    y_pred = (y_prob[:,1] >= 0.35).astype(\"int\")\n",
    "    print(f\"______________{idx}______________\") \n",
    "    print(f\"accuracy_score : {accuracy_score(y_test, y_pred):0.4f}\")\n",
    "    print(f\"f1_score : {f1_score(y_test, y_pred):0.4f}\")\n",
    "    print(f\"precision_score : {precision_score(y_test, y_pred):0.4f}\")\n",
    "    print(f\"recall_score : {recall_score(y_test, y_pred):0.4f}\")\n",
    "    print(f\"_______________________________\") "
   ]
  },
  {
   "cell_type": "markdown",
   "metadata": {},
   "source": [
    "# Save Model"
   ]
  },
  {
   "cell_type": "code",
   "execution_count": 63,
   "metadata": {},
   "outputs": [],
   "source": [
    "import joblib"
   ]
  },
  {
   "cell_type": "code",
   "execution_count": 67,
   "metadata": {},
   "outputs": [
    {
     "data": {
      "text/plain": [
       "['churn_model.pkl']"
      ]
     },
     "execution_count": 67,
     "metadata": {},
     "output_type": "execute_result"
    }
   ],
   "source": [
    "joblib.dump(best_model, 'churn_model.pkl')"
   ]
  },
  {
   "cell_type": "code",
   "execution_count": null,
   "metadata": {},
   "outputs": [],
   "source": []
  }
 ],
 "metadata": {
  "kernelspec": {
   "display_name": "Python 3",
   "language": "python",
   "name": "python3"
  },
  "language_info": {
   "codemirror_mode": {
    "name": "ipython",
    "version": 3
   },
   "file_extension": ".py",
   "mimetype": "text/x-python",
   "name": "python",
   "nbconvert_exporter": "python",
   "pygments_lexer": "ipython3",
   "version": "3.6.9"
  }
 },
 "nbformat": 4,
 "nbformat_minor": 2
}
