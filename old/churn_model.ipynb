{
 "cells": [
  {
   "cell_type": "code",
   "execution_count": 6,
   "metadata": {},
   "outputs": [
    {
     "data": {
      "text/html": [
       "<style>.container { width: 100% !important; }</style>"
      ],
      "text/plain": [
       "<IPython.core.display.HTML object>"
      ]
     },
     "metadata": {},
     "output_type": "display_data"
    }
   ],
   "source": [
    "from IPython.core.display import display, HTML\n",
    "display(HTML(\"<style>.container { width: 100% !important; }</style>\"))"
   ]
  },
  {
   "cell_type": "code",
   "execution_count": 7,
   "metadata": {},
   "outputs": [],
   "source": [
    "#===========================================================\n",
    "# File Name : B_DA_RETL_CHURN MODEL                           \n",
    "# Description :                                             \n",
    "# Date : 2020-11-12                                         \n",
    "# Writer : Yoon Jun Beom\n",
    "# Packages :                                                \n",
    "# Note :                           \n",
    "#==========================================================="
   ]
  },
  {
   "cell_type": "markdown",
   "metadata": {},
   "source": [
    "# Data Preprocessing"
   ]
  },
  {
   "cell_type": "code",
   "execution_count": 8,
   "metadata": {},
   "outputs": [],
   "source": [
    "# library import \n",
    "import pandas as pd\n",
    "import numpy as np\n",
    "\n",
    "import warnings\n",
    "warnings.filterwarnings('ignore')"
   ]
  },
  {
   "cell_type": "code",
   "execution_count": 13,
   "metadata": {},
   "outputs": [],
   "source": [
    "# 가맹점 별 운영정보 데이터\n",
    "base = pd.read_csv(r\"..\\..\\b_da_retl_churn_anl_md_tmp_table.csv\")\n",
    "base.drop(\"레코드 수\", axis= 1, inplace = True)\n",
    "\n",
    "base = base[['reg_no','amt_day_cnt', 'avg_amt', 'avg_cnt', 'avg_mm_amt', 'avg_mm_cnt',\n",
    "       'bf_month_diff_amt', 'bf_month_diff_cnt', 'churn_yn', 'high_lw_term',\n",
    "       'join_term', 'last_xmit_date', 'm3_sd_amt', 'm3_sd_cnt', 'm_00_app_amt',\n",
    "       'm_00_app_cnt', 'm_01_app_amt', 'm_01_app_cnt', 'm_02_app_amt',\n",
    "       'm_02_app_cnt', 'm_03_app_amt', 'm_03_app_cnt', 'm_04_app_amt',\n",
    "       'm_04_app_cnt', 'm_05_app_amt', 'm_05_app_cnt', 'max_amt_month',\n",
    "       'min_amt_month', 'min_mm_amt', 'min_mm_cnt', 'min_xmit_date',\n",
    "       'month_cnt', 'mx_mm_amt', 'mx_mm_cnt', 'mx_xmit_date', \n",
    "       'sd_amt', 'sd_mm_amt', 'sd_mm_cnt', 'sum_amt', 'sum_cnt',\n",
    "       'wk2_amt_diff', 'wk2_cnt_diff']]"
   ]
  },
  {
   "cell_type": "code",
   "execution_count": 14,
   "metadata": {},
   "outputs": [],
   "source": [
    "# 가맹점코드 매핑, 분류 조정\n",
    "map_code_info = pd.read_csv(r\"..\\..\\b_svr_map_code_info.csv\")\n",
    "map_code_info.drop(['레코드 수', 'load_dtm'], axis = 1, inplace = True)\n",
    "\n",
    "li = [ \n",
    "[\"부페\", \"중식\", \"퓨전/기타음식점\", \"한식-일반음식점\", \"양식\", \"일식/수산물\", \"분식/휴게음식점\", \"패스트푸드/제과점\"]\t, \"음식점\" ,\n",
    "[\"실내스포츠시설운영업\", \"실외스포츠시설운영업\", \"스포츠시설운영업\"]\t, \"스포츠시설운영업\",\n",
    "[\"예체능계학원\", \"외국어학원\", \"일반교과학원\", \"기타학원\", \"학습지/코칭교육\"]\t, \"학원\",\n",
    "[\"자동차및부품판매점\", \"자동차정비/세차/주차장\"]\t, \"자동차관련판매점\",\n",
    "[\"유흥주점-무도/가무\", \"일반유흥주점\"]\t, \"주점\",\n",
    "[\"독서실/도서관\"]\t, \"기타시설운영업\",\n",
    "[\"세탁/가사/전문서비스\", \"주택수리서비스\", \"용품수리서비스\"]\t, \"대행/용역/인력알선\",\n",
    "[\"약국/한약방\", \"유사의료업\", \"의료관련서비스업\"]\t, \"병원\",\n",
    "[\"예식/의례/관혼상제\"]\t, \"수의업\"\n",
    "]    \n",
    "a = []  \n",
    "b = []\n",
    "\n",
    "for i in li:\n",
    "    if type(i) == list :\n",
    "        a.append(i)\n",
    "    else :\n",
    "        b.append(i)\n",
    "        \n",
    "for i, j in zip(a, b):\n",
    "    map_code_info['cd_lv2_nm'].replace(i, j, inplace= True)        "
   ]
  },
  {
   "cell_type": "code",
   "execution_count": 19,
   "metadata": {},
   "outputs": [],
   "source": [
    "# 가맹점 정보 매핑\n",
    "debit_retl = pd.read_csv(r\"..\\..\\debit_retl.csv\", dtype='str')"
   ]
  },
  {
   "cell_type": "code",
   "execution_count": 20,
   "metadata": {},
   "outputs": [],
   "source": [
    "debit_retl = debit_retl[['reg_no','h_code','dbr_new_svr_code']]\n",
    "map_code_info = map_code_info[['map_cd','map_gubun','cd_lv2_nm']]\n",
    "debit_retl = debit_retl.merge(map_code_info.query(\"map_gubun == 'V'\"), 'left', left_on= 'dbr_new_svr_code', right_on = 'map_cd')"
   ]
  },
  {
   "cell_type": "code",
   "execution_count": 21,
   "metadata": {},
   "outputs": [],
   "source": [
    "month_tot = base.copy()"
   ]
  },
  {
   "cell_type": "code",
   "execution_count": 22,
   "metadata": {},
   "outputs": [],
   "source": [
    "month_tot['reg_no'] = month_tot.reg_no.astype(\"str\")"
   ]
  },
  {
   "cell_type": "code",
   "execution_count": 23,
   "metadata": {},
   "outputs": [],
   "source": [
    "# Feature engineering (비중)\n",
    "for i in range(6):\n",
    "    month_tot[f'm{str(i+1)}_cnt_rto'] = month_tot[f'm_{str(i).zfill(2)}_app_cnt'] / month_tot['sum_cnt'] \n",
    "    month_tot[f'm{str(i+1)}_amt_rto'] = month_tot[f'm_{str(i).zfill(2)}_app_amt'] / month_tot['sum_amt'] \n",
    "\n",
    "# MoM (전월 대비 증감율)\n",
    "for i in range(5):        \n",
    "    month_tot[f'm{str(i).zfill(2)}_cnt_updn_rto'] = (month_tot[f'm_{str(i).zfill(2)}_app_cnt'] / month_tot[f'm_{str(i+1).zfill(2)}_app_cnt']) -1 \n",
    "    month_tot[f'm{str(i).zfill(2)}_amt_updn_rto'] = (month_tot[f'm_{str(i).zfill(2)}_app_amt'] / month_tot[f'm_{str(i+1).zfill(2)}_app_amt']) -1 "
   ]
  },
  {
   "cell_type": "code",
   "execution_count": 24,
   "metadata": {},
   "outputs": [],
   "source": [
    "month_tot.replace([np.inf, -np.inf], np.nan, inplace = True)"
   ]
  },
  {
   "cell_type": "code",
   "execution_count": 25,
   "metadata": {},
   "outputs": [],
   "source": [
    "for col in month_tot.columns : # [month_tot.columns.str.contains(r\"(_rto)\")]\n",
    "    if month_tot[col].dtype == 'object': \n",
    "        pass \n",
    "    month_tot.fillna({col:0}, inplace = True)\n",
    "\n",
    "month_tot['avg_cnt_updn_rto'] = month_tot[month_tot.columns[month_tot.columns.str.contains(r\"(_cnt_updn_rto)\")]].mean(1)\n",
    "month_tot['avg_amt_updn_rto'] = month_tot[month_tot.columns[month_tot.columns.str.contains(r\"(_amt_updn_rto)\")]].mean(1)\n",
    "\n",
    "base_tot = month_tot.merge(debit_retl[['reg_no','cd_lv2_nm']], 'inner', on = 'reg_no')\n",
    "\n",
    "base_tot = base_tot[base_tot.cd_lv2_nm.notna()]"
   ]
  },
  {
   "cell_type": "code",
   "execution_count": 26,
   "metadata": {},
   "outputs": [],
   "source": [
    "# 운영했던 일자 수\n",
    "base_tot['norm_wrk_day'] = \\\n",
    "pd.to_datetime(base_tot.mx_xmit_date, format = \"%Y%m%d\") - pd.to_datetime(base_tot.min_xmit_date, format = \"%Y%m%d\") + np.timedelta64(1, 'D')\n",
    "base_tot['norm_wrk_day'] = base_tot.norm_wrk_day / np.timedelta64(1, 'D')"
   ]
  },
  {
   "cell_type": "code",
   "execution_count": 27,
   "metadata": {},
   "outputs": [],
   "source": [
    "# 매출일 수 / 운영일 수\n",
    "base_tot['amt_day_rto'] = base_tot.amt_day_cnt / base_tot.norm_wrk_day"
   ]
  },
  {
   "cell_type": "code",
   "execution_count": 28,
   "metadata": {},
   "outputs": [],
   "source": [
    "reg_churn_model = base_tot.drop([\"mx_xmit_date\", \"last_xmit_date\",\"min_xmit_date\", \"norm_wrk_day\", \"amt_day_cnt\",\n",
    "                      \"min_mm_amt\", \"mx_mm_amt\", \"max_amt_month\", \"min_amt_month\", \"mx_mm_cnt\", \"min_mm_cnt\"], axis = 1)"
   ]
  },
  {
   "cell_type": "markdown",
   "metadata": {},
   "source": [
    "# Build Model"
   ]
  },
  {
   "cell_type": "code",
   "execution_count": 29,
   "metadata": {},
   "outputs": [],
   "source": [
    "from sklearn.ensemble import RandomForestClassifier\n",
    "from sklearn.model_selection import train_test_split\n",
    "from sklearn.metrics import accuracy_score\n",
    "import seaborn as sns"
   ]
  },
  {
   "cell_type": "code",
   "execution_count": 30,
   "metadata": {},
   "outputs": [],
   "source": [
    "reg_churn_model['churn_yn'] = reg_churn_model.churn_yn.factorize()[0]\n",
    "reg_churn_model['cd_lv2_nm'] = reg_churn_model.cd_lv2_nm.factorize()[0]\n",
    "\n",
    "y = reg_churn_model['churn_yn'].values\n",
    "X = reg_churn_model.drop(['reg_no','churn_yn'], axis = 1).values\n",
    "\n",
    "X_train, X_test, y_train, y_test = train_test_split(X, y, test_size = 0.3, random_state = 1)"
   ]
  },
  {
   "cell_type": "code",
   "execution_count": 30,
   "metadata": {},
   "outputs": [],
   "source": [
    "m = round(np.sqrt(len(reg_churn_model.drop(['reg_no','churn_yn'], axis = 1).columns)),0)"
   ]
  },
  {
   "cell_type": "code",
   "execution_count": 31,
   "metadata": {},
   "outputs": [],
   "source": [
    "rf = RandomForestClassifier(n_estimators=100, max_depth= 16, random_state=1)"
   ]
  },
  {
   "cell_type": "code",
   "execution_count": 32,
   "metadata": {},
   "outputs": [],
   "source": [
    "rf.fit(X_train, y_train)\n",
    "y_pred = rf.predict(X_test)"
   ]
  },
  {
   "cell_type": "code",
   "execution_count": 33,
   "metadata": {},
   "outputs": [
    {
     "name": "stdout",
     "output_type": "stream",
     "text": [
      "Model accuracy score with 10 decision-trees : 0.9569\n"
     ]
    }
   ],
   "source": [
    "print('Model accuracy score with 10 decision-trees : {0:0.4f}'.format(accuracy_score(y_test, y_pred.round())))"
   ]
  },
  {
   "cell_type": "code",
   "execution_count": 35,
   "metadata": {},
   "outputs": [
    {
     "data": {
      "text/plain": [
       "<matplotlib.axes._subplots.AxesSubplot at 0x2a70974de48>"
      ]
     },
     "execution_count": 35,
     "metadata": {},
     "output_type": "execute_result"
    },
    {
     "data": {
      "image/png": "[encoded data removed]",
      "text/plain": [
       "<Figure size 432x288 with 2 Axes>"
      ]
     },
     "metadata": {
      "needs_background": "light"
     },
     "output_type": "display_data"
    }
   ],
   "source": [
    "from sklearn.metrics import confusion_matrix\n",
    "cm = confusion_matrix(y_test, y_pred.round())\n",
    "cm_matrix = pd.DataFrame(data=cm, columns=['Actual Positive:1', 'Actual Negative:0'], \n",
    "                                 index=['Predict Positive:1', 'Predict Negative:0'])\n",
    "sns.heatmap(cm_matrix, annot=True, fmt='d', cmap='YlGnBu')"
   ]
  },
  {
   "cell_type": "markdown",
   "metadata": {},
   "source": [
    "# Select Cutoff (0.35)"
   ]
  },
  {
   "cell_type": "code",
   "execution_count": 36,
   "metadata": {},
   "outputs": [],
   "source": [
    "from sklearn.metrics import f1_score, roc_auc_score, recall_score, precision_score"
   ]
  },
  {
   "cell_type": "code",
   "execution_count": 37,
   "metadata": {},
   "outputs": [
    {
     "name": "stdout",
     "output_type": "stream",
     "text": [
      "0    80149\n",
      "1     5798\n",
      "Name: churn_yn, dtype: int64\n",
      "0    0.93254\n",
      "1    0.06746\n",
      "Name: churn_yn, dtype: float64\n"
     ]
    }
   ],
   "source": [
    "# 이탈 가맹점: 약 6.7%\n",
    "print(reg_churn_model.churn_yn.value_counts())\n",
    "print(reg_churn_model.churn_yn.value_counts() / reg_churn_model.churn_yn.value_counts().sum())"
   ]
  },
  {
   "cell_type": "code",
   "execution_count": 38,
   "metadata": {},
   "outputs": [],
   "source": [
    "# find cut off\n",
    "y_prob = rf.predict_proba(X_test)\n",
    "i = 0.3\n",
    "data = []\n",
    "while True : \n",
    "    if i > 0.9 :\n",
    "        break\n",
    "    y_pred = (y_prob[:,1] >= i).astype(\"int\")\n",
    "    data.append([i,accuracy_score(y_test, y_pred), precision_score(y_test, y_pred), recall_score(y_test, y_pred),f1_score(y_test, y_pred), roc_auc_score(y_test, y_pred)])\n",
    "    i = i + 0.05"
   ]
  },
  {
   "cell_type": "code",
   "execution_count": 39,
   "metadata": {},
   "outputs": [
    {
     "data": {
      "text/html": [
       "<div>\n",
       "<style scoped>\n",
       "    .dataframe tbody tr th:only-of-type {\n",
       "        vertical-align: middle;\n",
       "    }\n",
       "\n",
       "    .dataframe tbody tr th {\n",
       "        vertical-align: top;\n",
       "    }\n",
       "\n",
       "    .dataframe thead th {\n",
       "        text-align: right;\n",
       "    }\n",
       "</style>\n",
       "<table border=\"1\" class=\"dataframe\">\n",
       "  <thead>\n",
       "    <tr style=\"text-align: right;\">\n",
       "      <th></th>\n",
       "      <th>cutoff</th>\n",
       "      <th>accuracy</th>\n",
       "      <th>precision</th>\n",
       "      <th>recall</th>\n",
       "      <th>f1_score</th>\n",
       "      <th>roc_auc_score</th>\n",
       "    </tr>\n",
       "  </thead>\n",
       "  <tbody>\n",
       "    <tr>\n",
       "      <th>0</th>\n",
       "      <td>0.30</td>\n",
       "      <td>0.949118</td>\n",
       "      <td>0.608322</td>\n",
       "      <td>0.750977</td>\n",
       "      <td>0.672164</td>\n",
       "      <td>0.857442</td>\n",
       "    </tr>\n",
       "    <tr>\n",
       "      <th>1</th>\n",
       "      <td>0.35</td>\n",
       "      <td>0.953927</td>\n",
       "      <td>0.661662</td>\n",
       "      <td>0.689001</td>\n",
       "      <td>0.675055</td>\n",
       "      <td>0.831351</td>\n",
       "    </tr>\n",
       "    <tr>\n",
       "      <th>2</th>\n",
       "      <td>0.40</td>\n",
       "      <td>0.957107</td>\n",
       "      <td>0.718014</td>\n",
       "      <td>0.629816</td>\n",
       "      <td>0.671029</td>\n",
       "      <td>0.805676</td>\n",
       "    </tr>\n",
       "    <tr>\n",
       "      <th>3</th>\n",
       "      <td>0.45</td>\n",
       "      <td>0.957262</td>\n",
       "      <td>0.774502</td>\n",
       "      <td>0.542714</td>\n",
       "      <td>0.638214</td>\n",
       "      <td>0.765459</td>\n",
       "    </tr>\n",
       "    <tr>\n",
       "      <th>4</th>\n",
       "      <td>0.50</td>\n",
       "      <td>0.956913</td>\n",
       "      <td>0.840000</td>\n",
       "      <td>0.469012</td>\n",
       "      <td>0.601935</td>\n",
       "      <td>0.731172</td>\n",
       "    </tr>\n",
       "    <tr>\n",
       "      <th>5</th>\n",
       "      <td>0.55</td>\n",
       "      <td>0.955090</td>\n",
       "      <td>0.894147</td>\n",
       "      <td>0.400893</td>\n",
       "      <td>0.553585</td>\n",
       "      <td>0.698675</td>\n",
       "    </tr>\n",
       "    <tr>\n",
       "      <th>6</th>\n",
       "      <td>0.60</td>\n",
       "      <td>0.952298</td>\n",
       "      <td>0.950241</td>\n",
       "      <td>0.330542</td>\n",
       "      <td>0.490472</td>\n",
       "      <td>0.664625</td>\n",
       "    </tr>\n",
       "    <tr>\n",
       "      <th>7</th>\n",
       "      <td>0.65</td>\n",
       "      <td>0.948342</td>\n",
       "      <td>0.959920</td>\n",
       "      <td>0.267448</td>\n",
       "      <td>0.418341</td>\n",
       "      <td>0.633307</td>\n",
       "    </tr>\n",
       "    <tr>\n",
       "      <th>8</th>\n",
       "      <td>0.70</td>\n",
       "      <td>0.944347</td>\n",
       "      <td>0.973404</td>\n",
       "      <td>0.204355</td>\n",
       "      <td>0.337794</td>\n",
       "      <td>0.601969</td>\n",
       "    </tr>\n",
       "    <tr>\n",
       "      <th>9</th>\n",
       "      <td>0.75</td>\n",
       "      <td>0.941012</td>\n",
       "      <td>0.989130</td>\n",
       "      <td>0.152429</td>\n",
       "      <td>0.264151</td>\n",
       "      <td>0.576152</td>\n",
       "    </tr>\n",
       "    <tr>\n",
       "      <th>10</th>\n",
       "      <td>0.80</td>\n",
       "      <td>0.938220</td>\n",
       "      <td>0.995000</td>\n",
       "      <td>0.111111</td>\n",
       "      <td>0.199900</td>\n",
       "      <td>0.555535</td>\n",
       "    </tr>\n",
       "    <tr>\n",
       "      <th>11</th>\n",
       "      <td>0.85</td>\n",
       "      <td>0.935389</td>\n",
       "      <td>1.000000</td>\n",
       "      <td>0.069793</td>\n",
       "      <td>0.130480</td>\n",
       "      <td>0.534897</td>\n",
       "    </tr>\n",
       "  </tbody>\n",
       "</table>\n",
       "</div>"
      ],
      "text/plain": [
       "    cutoff  accuracy  precision    recall  f1_score  roc_auc_score\n",
       "0     0.30  0.949118   0.608322  0.750977  0.672164       0.857442\n",
       "1     0.35  0.953927   0.661662  0.689001  0.675055       0.831351\n",
       "2     0.40  0.957107   0.718014  0.629816  0.671029       0.805676\n",
       "3     0.45  0.957262   0.774502  0.542714  0.638214       0.765459\n",
       "4     0.50  0.956913   0.840000  0.469012  0.601935       0.731172\n",
       "5     0.55  0.955090   0.894147  0.400893  0.553585       0.698675\n",
       "6     0.60  0.952298   0.950241  0.330542  0.490472       0.664625\n",
       "7     0.65  0.948342   0.959920  0.267448  0.418341       0.633307\n",
       "8     0.70  0.944347   0.973404  0.204355  0.337794       0.601969\n",
       "9     0.75  0.941012   0.989130  0.152429  0.264151       0.576152\n",
       "10    0.80  0.938220   0.995000  0.111111  0.199900       0.555535\n",
       "11    0.85  0.935389   1.000000  0.069793  0.130480       0.534897"
      ]
     },
     "execution_count": 39,
     "metadata": {},
     "output_type": "execute_result"
    }
   ],
   "source": [
    "result = pd.DataFrame(data)\n",
    "result.columns = ['cutoff','accuracy', 'precision','recall', 'f1_score', 'roc_auc_score']\n",
    "result # 0.35 "
   ]
  },
  {
   "cell_type": "markdown",
   "metadata": {},
   "source": [
    "# K-fold test (k = 3)\n",
    "##### stratified k-fold cross-validation (shuffle)"
   ]
  },
  {
   "cell_type": "code",
   "execution_count": 40,
   "metadata": {},
   "outputs": [],
   "source": [
    "from sklearn.model_selection import StratifiedShuffleSplit"
   ]
  },
  {
   "cell_type": "code",
   "execution_count": 41,
   "metadata": {},
   "outputs": [],
   "source": [
    "skf = StratifiedShuffleSplit(n_splits=3)"
   ]
  },
  {
   "cell_type": "code",
   "execution_count": 42,
   "metadata": {},
   "outputs": [],
   "source": [
    "rf = RandomForestClassifier(n_estimators=50, random_state=1)"
   ]
  },
  {
   "cell_type": "code",
   "execution_count": 43,
   "metadata": {},
   "outputs": [
    {
     "name": "stdout",
     "output_type": "stream",
     "text": [
      "______________0______________\n",
      "accuracy_score : 0.9521\n",
      "f1_score : 0.6584\n",
      "precision_score : 0.6342\n",
      "recall_score : 0.6845\n",
      "_______________________________\n",
      "______________1______________\n",
      "accuracy_score : 0.9567\n",
      "f1_score : 0.6921\n",
      "precision_score : 0.6656\n",
      "recall_score : 0.7207\n",
      "_______________________________\n",
      "______________2______________\n",
      "accuracy_score : 0.9539\n",
      "f1_score : 0.6689\n",
      "precision_score : 0.6494\n",
      "recall_score : 0.6897\n",
      "_______________________________\n"
     ]
    }
   ],
   "source": [
    "for idx, (train_index, test_index) in enumerate(skf.split(X, y)):\n",
    "    X_train, X_test = X[train_index], X[test_index]\n",
    "    y_train, y_test = y[train_index], y[test_index]\n",
    "    \n",
    "    rf.fit(X_train, y_train)\n",
    "    y_prob = rf.predict_proba(X_test)\n",
    "    y_pred = (y_prob[:,1] >= 0.35).astype(\"int\")\n",
    "    print(f\"______________{idx}______________\") \n",
    "    print(f\"accuracy_score : {accuracy_score(y_test, y_pred):0.4f}\")\n",
    "    print(f\"f1_score : {f1_score(y_test, y_pred):0.4f}\")\n",
    "    print(f\"precision_score : {precision_score(y_test, y_pred):0.4f}\")\n",
    "    print(f\"recall_score : {recall_score(y_test, y_pred):0.4f}\")\n",
    "    print(f\"_______________________________\") "
   ]
  },
  {
   "cell_type": "markdown",
   "metadata": {},
   "source": [
    "# Parameter Select \n",
    "#### GridSearch"
   ]
  },
  {
   "cell_type": "code",
   "execution_count": 44,
   "metadata": {},
   "outputs": [],
   "source": [
    "from sklearn.model_selection import GridSearchCV"
   ]
  },
  {
   "cell_type": "code",
   "execution_count": 50,
   "metadata": {},
   "outputs": [],
   "source": [
    "param_grid = {\n",
    "    'max_depth': [5,6,7,8,9,10,14,16,18], # sqrt(d), log2(d)\n",
    "    'n_estimators': [10, 50, 100],\n",
    "}"
   ]
  },
  {
   "cell_type": "code",
   "execution_count": 51,
   "metadata": {},
   "outputs": [],
   "source": [
    "estimator = RandomForestClassifier()"
   ]
  },
  {
   "cell_type": "code",
   "execution_count": 52,
   "metadata": {},
   "outputs": [],
   "source": [
    "skf = StratifiedShuffleSplit(n_splits=3)"
   ]
  },
  {
   "cell_type": "code",
   "execution_count": 53,
   "metadata": {},
   "outputs": [
    {
     "name": "stdout",
     "output_type": "stream",
     "text": [
      "best_parameter : {'max_depth': 16, 'n_estimators': 100}\n"
     ]
    }
   ],
   "source": [
    "grid_search = GridSearchCV(estimator = estimator, \n",
    "                           param_grid = param_grid, \n",
    "                           cv = skf,\n",
    "                           n_jobs = -1)\n",
    "\n",
    "# fit with (x_train, y_train)\n",
    "grid_search.fit(X, y)\n",
    "print(f\"best_parameter : {grid_search.best_params_}\")"
   ]
  },
  {
   "cell_type": "code",
   "execution_count": null,
   "metadata": {},
   "outputs": [],
   "source": [
    "best_model = grid_search.best_estimator_"
   ]
  },
  {
   "cell_type": "code",
   "execution_count": null,
   "metadata": {},
   "outputs": [],
   "source": [
    "for idx, (train_index, test_index) in enumerate(skf.split(X, y)):\n",
    "    X_train, X_test = X[train_index], X[test_index]\n",
    "    y_train, y_test = y[train_index], y[test_index]\n",
    "    \n",
    "    best_model.fit(X_train, y_train)\n",
    "    y_prob = best_model.predict_proba(X_test)\n",
    "    y_pred = (y_prob[:,1] >= 0.35).astype(\"int\")\n",
    "    print(f\"______________{idx}______________\") \n",
    "    print(f\"accuracy_score : {accuracy_score(y_test, y_pred):0.4f}\")\n",
    "    print(f\"f1_score : {f1_score(y_test, y_pred):0.4f}\")\n",
    "    print(f\"precision_score : {precision_score(y_test, y_pred):0.4f}\")\n",
    "    print(f\"recall_score : {recall_score(y_test, y_pred):0.4f}\")\n",
    "    print(f\"_______________________________\") "
   ]
  },
  {
   "cell_type": "markdown",
   "metadata": {},
   "source": [
    "# Feature importance"
   ]
  },
  {
   "cell_type": "code",
   "execution_count": 54,
   "metadata": {},
   "outputs": [],
   "source": [
    "# best_model.feature_importances_\n",
    "feature_scores = pd.Series(best_model.feature_importances_, index=reg_churn_model.drop(['reg_no','churn_yn'], axis = 1).columns).sort_values(ascending=False)"
   ]
  },
  {
   "cell_type": "code",
   "execution_count": 62,
   "metadata": {},
   "outputs": [
    {
     "data": {
      "text/plain": [
       "<matplotlib.axes._subplots.AxesSubplot at 0x1874e58ceb8>"
      ]
     },
     "execution_count": 62,
     "metadata": {},
     "output_type": "execute_result"
    },
    {
     "data": {
      "image/png": "[encoded data removed]",
      "text/plain": [
       "<Figure size 432x288 with 1 Axes>"
      ]
     },
     "metadata": {
      "needs_background": "light"
     },
     "output_type": "display_data"
    }
   ],
   "source": [
    "# 최근 2주간의 amt, cmt '변화' \n",
    "# 전월 대비 amt, cnt 변화\n",
    "# 그 밖에 6개월 sum cnt 중에서 차지하는 비율 등 바로 직전 기간의 가맹점 실적이 중요한 변수로 보여짐\n",
    "feature_scores[:10].plot(kind = 'bar')"
   ]
  },
  {
   "cell_type": "code",
   "execution_count": 44,
   "metadata": {},
   "outputs": [
    {
     "data": {
      "text/plain": [
       "RandomForestClassifier(n_estimators=50, random_state=1)"
      ]
     },
     "execution_count": 44,
     "metadata": {},
     "output_type": "execute_result"
    }
   ],
   "source": [
    "rf.fit(X, y)"
   ]
  },
  {
   "cell_type": "code",
   "execution_count": 45,
   "metadata": {},
   "outputs": [
    {
     "data": {
      "text/plain": [
       "<matplotlib.axes._subplots.AxesSubplot at 0x2a7108b1a20>"
      ]
     },
     "execution_count": 45,
     "metadata": {},
     "output_type": "execute_result"
    },
    {
     "data": {
      "image/png": "[encoded data removed]",
      "text/plain": [
       "<Figure size 432x288 with 1 Axes>"
      ]
     },
     "metadata": {
      "needs_background": "light"
     },
     "output_type": "display_data"
    }
   ],
   "source": [
    "feature_scores = pd.Series(rf.feature_importances_, index=reg_churn_model.drop(['reg_no','churn_yn'], axis = 1).columns).sort_values(ascending=False)\n",
    "feature_scores[:10].plot(kind = 'bar')"
   ]
  },
  {
   "cell_type": "code",
   "execution_count": 48,
   "metadata": {},
   "outputs": [
    {
     "data": {
      "text/html": [
       "<div>\n",
       "<style scoped>\n",
       "    .dataframe tbody tr th:only-of-type {\n",
       "        vertical-align: middle;\n",
       "    }\n",
       "\n",
       "    .dataframe tbody tr th {\n",
       "        vertical-align: top;\n",
       "    }\n",
       "\n",
       "    .dataframe thead th {\n",
       "        text-align: right;\n",
       "    }\n",
       "</style>\n",
       "<table border=\"1\" class=\"dataframe\">\n",
       "  <thead>\n",
       "    <tr style=\"text-align: right;\">\n",
       "      <th></th>\n",
       "      <th>index</th>\n",
       "      <th>0</th>\n",
       "    </tr>\n",
       "  </thead>\n",
       "  <tbody>\n",
       "    <tr>\n",
       "      <th>0</th>\n",
       "      <td>wk2_amt_diff</td>\n",
       "      <td>0.106048</td>\n",
       "    </tr>\n",
       "    <tr>\n",
       "      <th>1</th>\n",
       "      <td>wk2_cnt_diff</td>\n",
       "      <td>0.082195</td>\n",
       "    </tr>\n",
       "    <tr>\n",
       "      <th>2</th>\n",
       "      <td>bf_month_diff_cnt</td>\n",
       "      <td>0.074827</td>\n",
       "    </tr>\n",
       "    <tr>\n",
       "      <th>3</th>\n",
       "      <td>bf_month_diff_amt</td>\n",
       "      <td>0.060078</td>\n",
       "    </tr>\n",
       "    <tr>\n",
       "      <th>4</th>\n",
       "      <td>m1_cnt_rto</td>\n",
       "      <td>0.033834</td>\n",
       "    </tr>\n",
       "    <tr>\n",
       "      <th>5</th>\n",
       "      <td>m00_cnt_updn_rto</td>\n",
       "      <td>0.031366</td>\n",
       "    </tr>\n",
       "    <tr>\n",
       "      <th>6</th>\n",
       "      <td>m00_amt_updn_rto</td>\n",
       "      <td>0.031181</td>\n",
       "    </tr>\n",
       "    <tr>\n",
       "      <th>7</th>\n",
       "      <td>m1_amt_rto</td>\n",
       "      <td>0.030113</td>\n",
       "    </tr>\n",
       "    <tr>\n",
       "      <th>8</th>\n",
       "      <td>join_term</td>\n",
       "      <td>0.028505</td>\n",
       "    </tr>\n",
       "    <tr>\n",
       "      <th>9</th>\n",
       "      <td>avg_amt_updn_rto</td>\n",
       "      <td>0.019165</td>\n",
       "    </tr>\n",
       "  </tbody>\n",
       "</table>\n",
       "</div>"
      ],
      "text/plain": [
       "               index         0\n",
       "0       wk2_amt_diff  0.106048\n",
       "1       wk2_cnt_diff  0.082195\n",
       "2  bf_month_diff_cnt  0.074827\n",
       "3  bf_month_diff_amt  0.060078\n",
       "4         m1_cnt_rto  0.033834\n",
       "5   m00_cnt_updn_rto  0.031366\n",
       "6   m00_amt_updn_rto  0.031181\n",
       "7         m1_amt_rto  0.030113\n",
       "8          join_term  0.028505\n",
       "9   avg_amt_updn_rto  0.019165"
      ]
     },
     "execution_count": 48,
     "metadata": {},
     "output_type": "execute_result"
    }
   ],
   "source": [
    "feature_scores[:10].reset_index()"
   ]
  },
  {
   "cell_type": "code",
   "execution_count": 52,
   "metadata": {},
   "outputs": [],
   "source": [
    "import matplotlib.pyplot as plt"
   ]
  },
  {
   "cell_type": "code",
   "execution_count": 54,
   "metadata": {},
   "outputs": [],
   "source": [
    "plt.rcParams['font.family'] = 'NanumSquare'\n",
    "plt.rcParams['figure.figsize'] = (15,7)"
   ]
  },
  {
   "cell_type": "code",
   "execution_count": 55,
   "metadata": {},
   "outputs": [
    {
     "data": {
      "image/png": "[encoded data removed]",
      "text/plain": [
       "<Figure size 1080x504 with 1 Axes>"
      ]
     },
     "metadata": {
      "needs_background": "light"
     },
     "output_type": "display_data"
    }
   ],
   "source": [
    "fig = plt.figure(figsize=(15,7))\n",
    "plt.rc('xtick', labelsize=13) \n",
    "plt.rc('ytick', labelsize=10) \n",
    "sns.barplot(x='index', y=0, data= feature_scores[:10].reset_index())\n",
    "\n",
    "plt.xticks(rotation=25)\n",
    "plt.title('Feature Importance', fontsize=20, pad = 10)\n",
    "plt.savefig('feature_importance.png', dpi=200, facecolor=fig.get_facecolor(), bbox_inches='tight'\n",
    ")"
   ]
  },
  {
   "cell_type": "markdown",
   "metadata": {},
   "source": [
    "# Save Model"
   ]
  },
  {
   "cell_type": "code",
   "execution_count": 63,
   "metadata": {},
   "outputs": [],
   "source": [
    "import joblib"
   ]
  },
  {
   "cell_type": "code",
   "execution_count": 67,
   "metadata": {},
   "outputs": [
    {
     "data": {
      "text/plain": [
       "['churn_model.pkl']"
      ]
     },
     "execution_count": 67,
     "metadata": {},
     "output_type": "execute_result"
    }
   ],
   "source": [
    "joblib.dump(best_model, 'churn_model.pkl')"
   ]
  },
  {
   "cell_type": "code",
   "execution_count": null,
   "metadata": {},
   "outputs": [],
   "source": [
    "feature_scores[:10].plot(kind = 'bar')"
   ]
  }
 ],
 "metadata": {
  "kernelspec": {
   "display_name": "Python 3",
   "language": "python",
   "name": "python3"
  },
  "language_info": {
   "codemirror_mode": {
    "name": "ipython",
    "version": 3
   },
   "file_extension": ".py",
   "mimetype": "text/x-python",
   "name": "python",
   "nbconvert_exporter": "python",
   "pygments_lexer": "ipython3",
   "version": "3.6.9"
  }
 },
 "nbformat": 4,
 "nbformat_minor": 2
}
